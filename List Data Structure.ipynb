{
 "cells": [
  {
   "cell_type": "markdown",
   "metadata": {},
   "source": [
    "# LIST data structure:\n",
    "    1.  A collection of values,each value is separated by commas and enclosed by square brackets.\n",
    "    2.  lists are created by using the keyword list()\n",
    "    3.  Insertion order is preserved.\n",
    "    4.  Insertions are allowed.\n",
    "    5.  Deletions are allowed.\n",
    "    6.  List supports heterogeneous elements.\n",
    "    7.  List supports duplicate elements.\n",
    "    8.  List is dynamic. i.e. the size can be increased or decreased based on our requirement.\n",
    "    9.  List is mutable. to change its content or its value.\n",
    "    10. List supports indexing and slicing.\n",
    "    11. List supports positive and negative indexing\n",
    "    \n",
    "    positive index starts from left to right i.e. 0,1,2.,,,\n",
    "    negative index start from right to left i.e. -1,-2,-3,...\n",
    "    "
   ]
  },
  {
   "cell_type": "code",
   "execution_count": null,
   "metadata": {},
   "outputs": [],
   "source": [
    "#ex-1: to create a empty list:\n",
    "a=[ ]\n",
    "print(a)\n",
    "print(type(a))"
   ]
  },
  {
   "cell_type": "code",
   "execution_count": null,
   "metadata": {},
   "outputs": [],
   "source": [
    "#ex-2: to create a empty list using list()\n",
    "a=list()\n",
    "print(a)\n",
    "print(type(a))"
   ]
  },
  {
   "cell_type": "code",
   "execution_count": null,
   "metadata": {},
   "outputs": [],
   "source": [
    "#ex-3: to create a list with elements:\n",
    "a=[11,22,33,44]\n",
    "print(a)\n",
    "print(type(a))"
   ]
  },
  {
   "cell_type": "code",
   "execution_count": 23,
   "metadata": {},
   "outputs": [
    {
     "data": {
      "text/plain": [
       "tuple"
      ]
     },
     "execution_count": 23,
     "metadata": {},
     "output_type": "execute_result"
    }
   ],
   "source": [
    "a=11,22,44\n",
    "a\n",
    "type(a)"
   ]
  },
  {
   "cell_type": "code",
   "execution_count": null,
   "metadata": {},
   "outputs": [],
   "source": [
    "#ex-4: to create a list using list()\n",
    "a=list(range(1,11,2))\n",
    "print(a)\n",
    "print(type(a))"
   ]
  },
  {
   "cell_type": "code",
   "execution_count": null,
   "metadata": {},
   "outputs": [],
   "source": [
    "#ex-5: to create a list with duplicate elements:\n",
    "a=[11,22,11,43,55,77,11,22,22,11]\n",
    "print(a)"
   ]
  },
  {
   "cell_type": "code",
   "execution_count": null,
   "metadata": {},
   "outputs": [],
   "source": [
    "#ex-6: to create a list at runtime using eval()\n",
    "a=eval(input('enter list elements'))\n",
    "print(a)"
   ]
  },
  {
   "cell_type": "code",
   "execution_count": null,
   "metadata": {},
   "outputs": [],
   "source": [
    "#ex-7: to create a list with heterogeneous elements:\n",
    "a=[1901,'siva kumar',89000.50]\n",
    "print(a)\n",
    "print(type(a))"
   ]
  },
  {
   "cell_type": "code",
   "execution_count": null,
   "metadata": {},
   "outputs": [],
   "source": [
    "#ex-8: lists are mutable:\n",
    "a=[11,22,33,44]\n",
    "print(a)"
   ]
  },
  {
   "cell_type": "code",
   "execution_count": null,
   "metadata": {},
   "outputs": [],
   "source": [
    "a[1]=99\n",
    "print(a)"
   ]
  },
  {
   "cell_type": "code",
   "execution_count": null,
   "metadata": {},
   "outputs": [],
   "source": [
    "a[-3]=88\n",
    "print(a)\n",
    "a[1]"
   ]
  },
  {
   "cell_type": "code",
   "execution_count": null,
   "metadata": {},
   "outputs": [],
   "source": [
    "a[-3]"
   ]
  },
  {
   "cell_type": "code",
   "execution_count": null,
   "metadata": {},
   "outputs": [],
   "source": [
    "a[-3]"
   ]
  },
  {
   "cell_type": "code",
   "execution_count": null,
   "metadata": {},
   "outputs": [],
   "source": [
    "a=[11,22,33,44]\n",
    "print(a)\n",
    "a[4] ='python'\n",
    "print(a)"
   ]
  },
  {
   "cell_type": "markdown",
   "metadata": {},
   "source": [
    "#  built-in methods or built-in functions in Lists\n",
    "    1.  len()\n",
    "    2.  max()\n",
    "    3.  min()\n",
    "    4.  sum()\n",
    "    5.  append()\n",
    "    6.  insert()\n",
    "    7.  extend()\n",
    "    8.  pop()\n",
    "    9.  remove()\n",
    "    10. clear()\n",
    "    11. copy()"
   ]
  },
  {
   "cell_type": "code",
   "execution_count": null,
   "metadata": {},
   "outputs": [],
   "source": [
    "a=[11,2,44,3]\n",
    "print('no. of elements in a list=',len(a)) # len()..it returns no. of elements present in a list.\n",
    "print('highest value in a list',max(a)) #  max()..it returns highest value in a list\n",
    "print('lowest value in a list=',min(a)) # min()..it returns lowest value in a list\n",
    "print('sum of list elements=',sum(a)) # sum()..it returns sum of list elements."
   ]
  },
  {
   "cell_type": "code",
   "execution_count": null,
   "metadata": {},
   "outputs": [],
   "source": [
    "# 5. append():  This function is used to add new element at the end of the list.\n",
    "# eg\n",
    "a=[11,22,33,44]\n",
    "print(a)\n",
    "a.append(88)\n",
    "a.append(999)\n",
    "a.append('python')\n",
    "print(a)"
   ]
  },
  {
   "cell_type": "code",
   "execution_count": null,
   "metadata": {},
   "outputs": [],
   "source": [
    "# 6. insert(): This function is used to add new element at the given index number.\n",
    "# syntax:\n",
    "# insert(indexnumber,newelement)\n",
    "# eg:\n",
    "a=[11,22,33,44]\n",
    "print(a)\n",
    "a.insert(2,99)\n",
    "print(a)"
   ]
  },
  {
   "cell_type": "code",
   "execution_count": null,
   "metadata": {},
   "outputs": [],
   "source": [
    "# 7. extend():\n",
    "# This function is used to add multiple elements.\n",
    "a=[11,22,33,44]\n",
    "b=[88,99,77,66]\n",
    "print(a)\n",
    "a.extend(b)\n",
    "print(a)"
   ]
  },
  {
   "cell_type": "code",
   "execution_count": null,
   "metadata": {},
   "outputs": [],
   "source": [
    "#ex-2:\n",
    "a=[11,22,33,44]\n",
    "print(a)\n",
    "a.extend([100,200,300,400,500])\n",
    "print(a)"
   ]
  },
  {
   "cell_type": "code",
   "execution_count": null,
   "metadata": {},
   "outputs": [],
   "source": [
    "#ex:3\n",
    "a=[]\n",
    "print(a)\n",
    "a.extend(range(1,11,1))\n",
    "print(a)"
   ]
  },
  {
   "cell_type": "code",
   "execution_count": null,
   "metadata": {},
   "outputs": [],
   "source": [
    "#8. pop():\n",
    "#This function is used to remove the last element\n",
    "#or specified index number element from the list\n",
    "#ex:\n",
    "a=[11,22,33,44]\n",
    "print(a)\n",
    "a.pop()\n",
    "print(a)"
   ]
  },
  {
   "cell_type": "code",
   "execution_count": null,
   "metadata": {},
   "outputs": [],
   "source": [
    "#ex-2:\n",
    "a=[11,22,33,44]\n",
    "print(a)\n",
    "a.pop(-2)\n",
    "a.pop(0)\n",
    "print(a)"
   ]
  },
  {
   "cell_type": "code",
   "execution_count": null,
   "metadata": {},
   "outputs": [],
   "source": [
    "# 9. remove(): This function is used to remove the specified element.if the element is not present in a list, it returns\n",
    "# Value Error.\n",
    "a=[11,22,33,44]\n",
    "print(a)\n",
    "a.remove(22)\n",
    "print(a)\n",
    "a.remove(11)\n",
    "a"
   ]
  },
  {
   "cell_type": "code",
   "execution_count": null,
   "metadata": {},
   "outputs": [],
   "source": [
    "#eg: 2 if the element present more than one time, it removes the first occurence'''\n",
    "a=[11,22,11,22,78,11,33,44]\n",
    "print(a)\n",
    "a.remove(11)\n",
    "print(a)"
   ]
  },
  {
   "cell_type": "code",
   "execution_count": null,
   "metadata": {},
   "outputs": [],
   "source": [
    "#10. clear(): this function is used to remove all elements from a list\n",
    "#eg:\n",
    "a=[11,22,33,44]\n",
    "print(a)\n",
    "a.clear()\n",
    "print(a)"
   ]
  },
  {
   "cell_type": "code",
   "execution_count": null,
   "metadata": {},
   "outputs": [],
   "source": [
    "print(a)"
   ]
  },
  {
   "cell_type": "code",
   "execution_count": null,
   "metadata": {},
   "outputs": [],
   "source": [
    "# 11. copy(): This function is used to copy the values from one list to another list\n",
    "a=[11,22,33,44]\n",
    "b=a.copy()\n",
    "print(a)\n",
    "print(b)\n",
    "b[0]=66\n",
    "print(b)"
   ]
  },
  {
   "cell_type": "code",
   "execution_count": null,
   "metadata": {},
   "outputs": [],
   "source": [
    "#11. del: this keyword is used remove the object from memory\n",
    "# syntax: del objectname\n",
    "a=[11,22,33,44]\n",
    "print(a)\n",
    "del(a)\n",
    "#print(a)"
   ]
  },
  {
   "cell_type": "code",
   "execution_count": null,
   "metadata": {},
   "outputs": [],
   "source": [
    "print(a)"
   ]
  },
  {
   "cell_type": "markdown",
   "metadata": {},
   "source": [
    "# Some More functions in LIST\n"
   ]
  },
  {
   "cell_type": "code",
   "execution_count": 3,
   "metadata": {},
   "outputs": [
    {
     "name": "stdout",
     "output_type": "stream",
     "text": [
      "3\n",
      "1\n",
      "1\n",
      "0\n"
     ]
    }
   ],
   "source": [
    "'''count():\n",
    "    This function returns number of times present ,\n",
    "    a given element in  a list.\n",
    "    if the element not present in a list, it returns '0'.'''\n",
    "#ex-1:    \n",
    "a=[11,22,33,11,88,11,33]\n",
    "print(a.count(11))\n",
    "print(a.count(88))\n",
    "print(a.count(22))\n",
    "print(a.count(99))      "
   ]
  },
  {
   "cell_type": "code",
   "execution_count": 4,
   "metadata": {},
   "outputs": [
    {
     "name": "stdout",
     "output_type": "stream",
     "text": [
      "0\n",
      "4\n",
      "2\n"
     ]
    },
    {
     "ename": "ValueError",
     "evalue": "99 is not in list",
     "output_type": "error",
     "traceback": [
      "\u001b[1;31m---------------------------------------------------------------------------\u001b[0m",
      "\u001b[1;31mValueError\u001b[0m                                Traceback (most recent call last)",
      "\u001b[1;32m<ipython-input-4-236bdf7ce315>\u001b[0m in \u001b[0;36m<module>\u001b[1;34m()\u001b[0m\n\u001b[0;32m      7\u001b[0m \u001b[0mprint\u001b[0m\u001b[1;33m(\u001b[0m\u001b[0ma\u001b[0m\u001b[1;33m.\u001b[0m\u001b[0mindex\u001b[0m\u001b[1;33m(\u001b[0m\u001b[1;36m88\u001b[0m\u001b[1;33m)\u001b[0m\u001b[1;33m)\u001b[0m\u001b[1;33m\u001b[0m\u001b[0m\n\u001b[0;32m      8\u001b[0m \u001b[0mprint\u001b[0m\u001b[1;33m(\u001b[0m\u001b[0ma\u001b[0m\u001b[1;33m.\u001b[0m\u001b[0mindex\u001b[0m\u001b[1;33m(\u001b[0m\u001b[1;36m33\u001b[0m\u001b[1;33m)\u001b[0m\u001b[1;33m)\u001b[0m\u001b[1;33m\u001b[0m\u001b[0m\n\u001b[1;32m----> 9\u001b[1;33m \u001b[0mprint\u001b[0m\u001b[1;33m(\u001b[0m\u001b[0ma\u001b[0m\u001b[1;33m.\u001b[0m\u001b[0mindex\u001b[0m\u001b[1;33m(\u001b[0m\u001b[1;36m99\u001b[0m\u001b[1;33m)\u001b[0m\u001b[1;33m)\u001b[0m\u001b[1;33m\u001b[0m\u001b[0m\n\u001b[0m",
      "\u001b[1;31mValueError\u001b[0m: 99 is not in list"
     ]
    }
   ],
   "source": [
    "'''index(): This function returns the index number of the given element.\n",
    "            if the element present multiple times then it returns first occurence.\n",
    "            If the element not present in a list, it returns ValueError.     \n",
    "ex:'''\n",
    "a=[11,22,33,11,88,11,33]\n",
    "print(a.index(11))\n",
    "print(a.index(88))\n",
    "print(a.index(33))\n",
    "print(a.index(99))    "
   ]
  },
  {
   "cell_type": "code",
   "execution_count": 5,
   "metadata": {},
   "outputs": [
    {
     "name": "stdout",
     "output_type": "stream",
     "text": [
      "[11, 22, 33, 44]\n",
      "[44, 33, 22, 11]\n"
     ]
    }
   ],
   "source": [
    "'''reverse() - This functions returns reversing a given list.\n",
    "                This function does not takes any arguments\n",
    "                This function does not returns any values.\n",
    "'''\n",
    "a=[11,22,33,44]\n",
    "print(a)\n",
    "a.reverse()\n",
    "print(a)"
   ]
  },
  {
   "cell_type": "code",
   "execution_count": 6,
   "metadata": {},
   "outputs": [
    {
     "name": "stdout",
     "output_type": "stream",
     "text": [
      "[11, 2, 33, 4]\n",
      "[2, 4, 11, 33]\n"
     ]
    }
   ],
   "source": [
    "'''sort() - This functions is used to sort the elements:\n",
    "            ascending order.....to arrange the elements lowest value to highest value.\n",
    "            descending order...>to arrange the elements highest value to lowest value.\n",
    "            by default order is ascending order.\n",
    "'''\n",
    "#ex-1: to sort the elements in ascending order\n",
    "a=[11,2,33,4]\n",
    "print(a)\n",
    "a.sort()\n",
    "print(a)"
   ]
  },
  {
   "cell_type": "code",
   "execution_count": null,
   "metadata": {},
   "outputs": [],
   "source": [
    "#ex-1: to sort the elements in ascending order\n",
    "a=[11,2,33,4]\n",
    "print(a)\n",
    "a.sort()\n",
    "print(a)"
   ]
  },
  {
   "cell_type": "code",
   "execution_count": 7,
   "metadata": {},
   "outputs": [
    {
     "name": "stdout",
     "output_type": "stream",
     "text": [
      "[11, 2, 33, 4]\n",
      "[33, 11, 4, 2]\n"
     ]
    }
   ],
   "source": [
    "#ex-2: to sort the elements in descending order\n",
    "a=[11,2,33,4]\n",
    "print(a) \n",
    "a.sort(reverse=True)\n",
    "print(a)\n"
   ]
  },
  {
   "cell_type": "markdown",
   "metadata": {},
   "source": [
    "# mathematical operators in lists:\n",
    "1. list concatenation operator(+):\n",
    "    This opertor is used to concatenate two or more list.\n",
    "\n"
   ]
  },
  {
   "cell_type": "code",
   "execution_count": 9,
   "metadata": {},
   "outputs": [
    {
     "name": "stdout",
     "output_type": "stream",
     "text": [
      "[]\n"
     ]
    }
   ],
   "source": [
    "#ex-1:\n",
    "a=[]\n",
    "b=[]\n",
    "c=a+b\n",
    "print(c)"
   ]
  },
  {
   "cell_type": "code",
   "execution_count": 10,
   "metadata": {},
   "outputs": [
    {
     "name": "stdout",
     "output_type": "stream",
     "text": [
      "[11, 22, 33, 44, 'python', 'c', 'c+++', 'java', 'r', 'devops']\n"
     ]
    }
   ],
   "source": [
    "#ex-2:\n",
    "a=[11,22,33,44]\n",
    "b=['python','c','c+++']\n",
    "c=['java','r','devops']\n",
    "d=a+b+c\n",
    "print(d)"
   ]
  },
  {
   "cell_type": "markdown",
   "metadata": {},
   "source": [
    "2. list repetation operator(*):"
   ]
  },
  {
   "cell_type": "code",
   "execution_count": 12,
   "metadata": {},
   "outputs": [
    {
     "name": "stdout",
     "output_type": "stream",
     "text": [
      "[11, 22, 33, 44, 11, 22, 33, 44, 11, 22, 33, 44, 11, 22, 33, 44, 11, 22, 33, 44]\n"
     ]
    }
   ],
   "source": [
    "# This function is used to repeat a list 'n' number of  times.\n",
    "#ex-1:\n",
    "a=[11,22,33,44]\n",
    "print(a*5)"
   ]
  },
  {
   "cell_type": "code",
   "execution_count": 13,
   "metadata": {},
   "outputs": [
    {
     "name": "stdout",
     "output_type": "stream",
     "text": [
      "['python', 'c', 'c+++', 'python', 'c', 'c+++', 'python', 'c', 'c+++', 'python', 'c', 'c+++', 'python', 'c', 'c+++']\n"
     ]
    }
   ],
   "source": [
    "#ex-2:\n",
    "b=['python','c','c+++']  \n",
    "c=b*5\n",
    "print(c)   "
   ]
  },
  {
   "cell_type": "markdown",
   "metadata": {},
   "source": [
    "3. list comparison opertor(==):"
   ]
  },
  {
   "cell_type": "code",
   "execution_count": 14,
   "metadata": {},
   "outputs": [
    {
     "name": "stdout",
     "output_type": "stream",
     "text": [
      "False\n",
      "False\n",
      "True\n"
     ]
    }
   ],
   "source": [
    "#This operator is used to compare two lists. It retutns True or False.\n",
    "#   eg:\n",
    "a=[11,22,33,44]\n",
    "b=['python','c','c+++']\n",
    "c=[11,22,33,44]\n",
    "print(a==b)\n",
    "print(b==c)\n",
    "print(c==a)\n"
   ]
  },
  {
   "cell_type": "code",
   "execution_count": 15,
   "metadata": {},
   "outputs": [
    {
     "name": "stdout",
     "output_type": "stream",
     "text": [
      "11\n",
      "22\n",
      "33\n",
      "44\n"
     ]
    }
   ],
   "source": [
    "#eg: for loop in list:\n",
    " \n",
    "a=[11,22,33,44]\n",
    "for i in a:    \n",
    "    print(i)"
   ]
  },
  {
   "cell_type": "code",
   "execution_count": 17,
   "metadata": {},
   "outputs": [
    {
     "name": "stdout",
     "output_type": "stream",
     "text": [
      "True\n",
      "False\n",
      "True\n",
      "False\n"
     ]
    }
   ],
   "source": [
    "# in and not in opertors in lists:\n",
    "a=[11,22,33,44]\n",
    "print(11 in a)\n",
    "print(88 in a)\n",
    "print(120 not in a)\n",
    "print(33 not in  a)"
   ]
  },
  {
   "cell_type": "code",
   "execution_count": 19,
   "metadata": {},
   "outputs": [
    {
     "name": "stdout",
     "output_type": "stream",
     "text": [
      "11\n",
      "7\n",
      "8\n",
      "2\n"
     ]
    }
   ],
   "source": [
    "#nested lists:\n",
    "#    A list contains another list.     It is called a nested list.\n",
    "\n",
    "#a = [11,22,33,[12,44],[44,55],5]\n",
    "a=[11,22,[1,2,3],66,[6,7,8]]\n",
    "print(a[0])\n",
    "print(a[4][1])\n",
    "print(a[4][2])\n",
    "print(a[2][1])"
   ]
  },
  {
   "cell_type": "code",
   "execution_count": null,
   "metadata": {},
   "outputs": [],
   "source": [
    "# Write a program to print list elements:\n",
    "a=[11,22,33,44]\n",
    "for i in a:\n",
    "    print(i) "
   ]
  },
  {
   "cell_type": "code",
   "execution_count": null,
   "metadata": {},
   "outputs": [],
   "source": [
    "# Write a program to count number of elements in a list:\n",
    "# method-1\n",
    "a=[11,22,33,44]\n",
    "print('no. of elements=',len(a))"
   ]
  },
  {
   "cell_type": "code",
   "execution_count": 20,
   "metadata": {},
   "outputs": [
    {
     "name": "stdout",
     "output_type": "stream",
     "text": [
      "no. of elements in a list= 4\n"
     ]
    }
   ],
   "source": [
    "# method-2:     \n",
    "a=[11,22,33,44]                         \n",
    "count=0                                 \n",
    "for i in a:                               \n",
    "    count=count+1                         \n",
    "print('no. of elements in a list=',count)              \n"
   ]
  },
  {
   "cell_type": "code",
   "execution_count": null,
   "metadata": {},
   "outputs": [],
   "source": [
    "# Write a program to sum of elements in a list:\n",
    "# method-1\n",
    "\n",
    "a=[11,22,33,44]\n",
    "print('sum of elements=',sum(a))\n"
   ]
  },
  {
   "cell_type": "code",
   "execution_count": 21,
   "metadata": {},
   "outputs": [
    {
     "name": "stdout",
     "output_type": "stream",
     "text": [
      "sum of elements in a list= 110\n"
     ]
    }
   ],
   "source": [
    "# method-2:     \n",
    "a=[11,22,33,44]                         \n",
    "sum=0                                 \n",
    "for i in a:                               \n",
    "    sum=sum+i                         \n",
    "print('sum of elements in a list=',sum)             "
   ]
  },
  {
   "cell_type": "code",
   "execution_count": null,
   "metadata": {},
   "outputs": [],
   "source": []
  },
  {
   "cell_type": "code",
   "execution_count": null,
   "metadata": {},
   "outputs": [],
   "source": []
  }
 ],
 "metadata": {
  "kernelspec": {
   "display_name": "Python 3",
   "language": "python",
   "name": "python3"
  },
  "language_info": {
   "codemirror_mode": {
    "name": "ipython",
    "version": 3
   },
   "file_extension": ".py",
   "mimetype": "text/x-python",
   "name": "python",
   "nbconvert_exporter": "python",
   "pygments_lexer": "ipython3",
   "version": "3.6.4"
  }
 },
 "nbformat": 4,
 "nbformat_minor": 2
}
