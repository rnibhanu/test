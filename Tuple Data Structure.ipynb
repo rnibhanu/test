{
 "cells": [
  {
   "cell_type": "markdown",
   "metadata": {},
   "source": [
    "# Tuple data structure\n",
    "\n",
    "        1. A collection of values, each value separated by commans,and enclosed by parenthesis. It is called a tuple\n",
    "        2. The tuples are created by using the tuple().\n",
    "        3. In the tuple, the insertion order is preserved.\n",
    "        4. Insertions are not allowed.\n",
    "        5. Deletions are not allowed.\n",
    "        6. Duplicate elements are allowed.\n",
    "        7. It supports heterogeneous elements  i.e. the tuple object stored different types of elements.\n",
    "        8. Tuple is immutable. once we create a tuple object .   cannot change its value.\n",
    "        9. Tuple supports indexing and slicing.\n",
    "        10. In python indexing are two types.   positive indexing  negative indexing.\n",
    "              positive indexing starts from left to right i.e. 0,1,2...\n",
    "              negative indexing starts from right to left i.e. -1,-,2,-3,.....\n",
    "        11. Declaration  syntax of a tuple object:\n",
    "              tuplename=(value-1,value-2,value-3,.....value-n)\n",
    "         ex: t=(11,22,33,44)\n",
    "              x=('python','c','c++','java')\n",
    "        12. In tuples, the paranthesis are optional"
   ]
  },
  {
   "cell_type": "code",
   "execution_count": 1,
   "metadata": {},
   "outputs": [
    {
     "name": "stdout",
     "output_type": "stream",
     "text": [
      "()\n",
      "<class 'tuple'>\n"
     ]
    }
   ],
   "source": [
    "#ex-1: to create a empty tuple:\n",
    "t=( )\n",
    "print(t)\n",
    "print(type(t))\n"
   ]
  },
  {
   "cell_type": "code",
   "execution_count": 2,
   "metadata": {},
   "outputs": [
    {
     "name": "stdout",
     "output_type": "stream",
     "text": [
      "()\n",
      "<class 'tuple'>\n"
     ]
    }
   ],
   "source": [
    "#ex-2: to create a empty tuple using tuple()\n",
    "t=tuple()\n",
    "print(t)\n",
    "print(type(t))\n"
   ]
  },
  {
   "cell_type": "code",
   "execution_count": 3,
   "metadata": {},
   "outputs": [
    {
     "name": "stdout",
     "output_type": "stream",
     "text": [
      "('hi', 'hello', 54)\n",
      "<class 'tuple'>\n"
     ]
    }
   ],
   "source": [
    "t = 'hi','hello',54\n",
    "print(t)\n",
    "print(type(t))"
   ]
  },
  {
   "cell_type": "code",
   "execution_count": 4,
   "metadata": {},
   "outputs": [
    {
     "name": "stdout",
     "output_type": "stream",
     "text": [
      "(11, 22, 33, 44)\n",
      "<class 'tuple'>\n"
     ]
    }
   ],
   "source": [
    "#ex-3: to create a tuple with elements:\n",
    "t=(11,22,33,44)\n",
    "print(t)\n",
    "print(type(t))\n"
   ]
  },
  {
   "cell_type": "code",
   "execution_count": 8,
   "metadata": {},
   "outputs": [
    {
     "name": "stdout",
     "output_type": "stream",
     "text": [
      "(1, 3, 5, 7, 9)\n"
     ]
    }
   ],
   "source": [
    "# ex-4: to create a tuple using tuple() with elements:\n",
    "t=tuple(range(1,11,2))\n",
    "print(t)\n"
   ]
  },
  {
   "cell_type": "code",
   "execution_count": 9,
   "metadata": {},
   "outputs": [
    {
     "name": "stdout",
     "output_type": "stream",
     "text": [
      "(11, 22, 11, 33, 22, 66, 11)\n"
     ]
    }
   ],
   "source": [
    "# ex-5: to create a tuple with duplicate elements:\n",
    "t=(11,22,11,33,22,66,11)\n",
    "print(t)\n"
   ]
  },
  {
   "cell_type": "code",
   "execution_count": 10,
   "metadata": {},
   "outputs": [
    {
     "name": "stdout",
     "output_type": "stream",
     "text": [
      "(1901, 'ram', 45000.5)\n"
     ]
    }
   ],
   "source": [
    "#ex-6:to create a tuple with heterogeneous elements:\n",
    "t=(1901,'ram',45000.50)\n",
    "print(t)\n"
   ]
  },
  {
   "cell_type": "code",
   "execution_count": 11,
   "metadata": {},
   "outputs": [
    {
     "name": "stdout",
     "output_type": "stream",
     "text": [
      "enter tuple elements:12,'asdfs',39.4\n",
      "(12, 'asdfs', 39.4)\n"
     ]
    }
   ],
   "source": [
    "# ex-7: to create a tuple at runtime using eval()\n",
    "t=eval(input('enter tuple elements:'))\n",
    "print(t)"
   ]
  },
  {
   "cell_type": "markdown",
   "metadata": {},
   "source": [
    "# tuple methods:(built-in functions in tuple)\n",
    "     1. len() -    It returns no. of elements present in  tuple.\n",
    "     2. max() -    It returns the highest value in a tuple\n",
    "     3. min() -    It returns the lowest value in a tuple\n",
    "     4. sum() -    It returns the sum of all elements in a tuple\n",
    "     5. sorted() - This function is used to sort the elements either ascending order or descending order\n",
    "     6. count() -  This function, returns a number of times present a given element in a tuple.\n",
    "                   If the element not present in a tuple, it returns zero.\n",
    "     7. index() -  This function returns the index number of the given tuple.\n",
    "                    if the given element not present in a tuple, it returns ValueError.\n",
    "                    if the given element present more than one time,then it returns first occurence."
   ]
  },
  {
   "cell_type": "code",
   "execution_count": 12,
   "metadata": {},
   "outputs": [
    {
     "name": "stdout",
     "output_type": "stream",
     "text": [
      "no. of elemets = 4\n",
      "highest value= 44\n",
      "lowest value= 11\n",
      "sum of elements= 110\n"
     ]
    }
   ],
   "source": [
    "#ex-1:\n",
    "t=(11,22,33,44)\n",
    "print('no. of elemets =',len(t))\n",
    "print('highest value=',max(t))\n",
    "print('lowest value=',min(t))\n",
    "print('sum of elements=',sum(t))"
   ]
  },
  {
   "cell_type": "code",
   "execution_count": 13,
   "metadata": {},
   "outputs": [
    {
     "name": "stdout",
     "output_type": "stream",
     "text": [
      "[2, 5, 7, 11]\n"
     ]
    }
   ],
   "source": [
    "# ex-1: to sort the tuple elements ascending order\n",
    "t=(11,2,7,5)\n",
    "print(sorted(t))\n"
   ]
  },
  {
   "cell_type": "code",
   "execution_count": 14,
   "metadata": {},
   "outputs": [
    {
     "name": "stdout",
     "output_type": "stream",
     "text": [
      "[11, 7, 5, 2]\n"
     ]
    }
   ],
   "source": [
    "#ex-2: to sort the tuple elements in desceding order:\n",
    "t=(11,2,7,5)\n",
    "print(sorted(t,reverse=True))    \n"
   ]
  },
  {
   "cell_type": "code",
   "execution_count": 15,
   "metadata": {},
   "outputs": [
    {
     "name": "stdout",
     "output_type": "stream",
     "text": [
      "2\n",
      "2\n",
      "1\n"
     ]
    }
   ],
   "source": [
    "# ex-1:\n",
    "t=(11,22,11,66,99,3,8,66)\n",
    "print(t.count(66))\n",
    "print(t.count(11))\n",
    "print(t.count(99))\n"
   ]
  },
  {
   "cell_type": "code",
   "execution_count": 16,
   "metadata": {},
   "outputs": [
    {
     "name": "stdout",
     "output_type": "stream",
     "text": [
      "4\n",
      "0\n",
      "3\n"
     ]
    },
    {
     "ename": "ValueError",
     "evalue": "tuple.index(x): x not in tuple",
     "output_type": "error",
     "traceback": [
      "\u001b[1;31m---------------------------------------------------------------------------\u001b[0m",
      "\u001b[1;31mValueError\u001b[0m                                Traceback (most recent call last)",
      "\u001b[1;32m<ipython-input-16-791d606183c7>\u001b[0m in \u001b[0;36m<module>\u001b[1;34m()\u001b[0m\n\u001b[0;32m      4\u001b[0m \u001b[0mprint\u001b[0m\u001b[1;33m(\u001b[0m\u001b[0mt\u001b[0m\u001b[1;33m.\u001b[0m\u001b[0mindex\u001b[0m\u001b[1;33m(\u001b[0m\u001b[1;36m11\u001b[0m\u001b[1;33m)\u001b[0m\u001b[1;33m)\u001b[0m\u001b[1;33m\u001b[0m\u001b[0m\n\u001b[0;32m      5\u001b[0m \u001b[0mprint\u001b[0m\u001b[1;33m(\u001b[0m\u001b[0mt\u001b[0m\u001b[1;33m.\u001b[0m\u001b[0mindex\u001b[0m\u001b[1;33m(\u001b[0m\u001b[1;36m66\u001b[0m\u001b[1;33m)\u001b[0m\u001b[1;33m)\u001b[0m\u001b[1;33m\u001b[0m\u001b[0m\n\u001b[1;32m----> 6\u001b[1;33m \u001b[0mprint\u001b[0m\u001b[1;33m(\u001b[0m\u001b[0mt\u001b[0m\u001b[1;33m.\u001b[0m\u001b[0mindex\u001b[0m\u001b[1;33m(\u001b[0m\u001b[1;36m200\u001b[0m\u001b[1;33m)\u001b[0m\u001b[1;33m)\u001b[0m\u001b[1;33m\u001b[0m\u001b[0m\n\u001b[0m",
      "\u001b[1;31mValueError\u001b[0m: tuple.index(x): x not in tuple"
     ]
    }
   ],
   "source": [
    "#eg: \n",
    "t=(11,22,11,66,99,3,8,66)\n",
    "print(t.index(99))\n",
    "print(t.index(11))\n",
    "print(t.index(66))\n",
    "print(t.index(200))"
   ]
  },
  {
   "cell_type": "code",
   "execution_count": null,
   "metadata": {},
   "outputs": [],
   "source": []
  },
  {
   "cell_type": "code",
   "execution_count": null,
   "metadata": {},
   "outputs": [],
   "source": []
  },
  {
   "cell_type": "code",
   "execution_count": null,
   "metadata": {},
   "outputs": [],
   "source": []
  },
  {
   "cell_type": "code",
   "execution_count": null,
   "metadata": {},
   "outputs": [],
   "source": []
  },
  {
   "cell_type": "code",
   "execution_count": null,
   "metadata": {},
   "outputs": [],
   "source": []
  },
  {
   "cell_type": "code",
   "execution_count": null,
   "metadata": {},
   "outputs": [],
   "source": []
  },
  {
   "cell_type": "code",
   "execution_count": null,
   "metadata": {},
   "outputs": [],
   "source": []
  },
  {
   "cell_type": "code",
   "execution_count": null,
   "metadata": {},
   "outputs": [],
   "source": []
  },
  {
   "cell_type": "code",
   "execution_count": null,
   "metadata": {},
   "outputs": [],
   "source": []
  },
  {
   "cell_type": "code",
   "execution_count": null,
   "metadata": {},
   "outputs": [],
   "source": []
  },
  {
   "cell_type": "markdown",
   "metadata": {},
   "source": [
    "operators used in tuples:\n",
    "        1. concatenation operator( + )\n",
    "        2. repetation opertor( *)\n",
    "        3. comparison operator ( ==)\n",
    "        4. in and not in operators\n"
   ]
  },
  {
   "cell_type": "code",
   "execution_count": null,
   "metadata": {},
   "outputs": [],
   "source": [
    "#1. concatenation operator( + ): This operator is used to concatenate two or more tuples.\n",
    "#ex-1:\n",
    "t1=(11,22,33,44)\n",
    "t2=(1,2,3,4)\n",
    "t3=(100,200,300)\n",
    "t4=t1+t2+t3\n",
    "print(t4)\n"
   ]
  },
  {
   "cell_type": "code",
   "execution_count": null,
   "metadata": {},
   "outputs": [],
   "source": [
    "#2. repetation operator(*): This operator is used to repeat a given tuple into 'n' number of times.\n",
    "#eg:\n",
    "t=(11,22,33,44)\n",
    "print(t*5)"
   ]
  },
  {
   "cell_type": "code",
   "execution_count": null,
   "metadata": {},
   "outputs": [],
   "source": [
    "#3. comparison operator(==): This operator is used to compare two or more tuples. it returns True ,False.\n",
    "#eg:\n",
    "t1=(11,22,33,44)\n",
    "t2=(11,22,33,44)\n",
    "t3=(1,2,3,4)\n",
    "print(t1==t2)\n",
    "print(t2==t3)\n",
    "print(t3==t1)"
   ]
  },
  {
   "cell_type": "code",
   "execution_count": null,
   "metadata": {},
   "outputs": [],
   "source": [
    "#4. in and not in operators:\n",
    "'''these operators are also called special operators.\n",
    "    in...>if the given value present in a object\n",
    "        it returns true, otherwise returns false.\n",
    "\n",
    "    not in ...>if the given value not preset in a object\n",
    "       it returns True, otherwise it returns False'''\n",
    "#ex-1:\n",
    "t=(11,22,33,44)\n",
    "print(11 in t)\n",
    "print(99 in t)\n",
    "print(44 not in t)\n",
    "print(88 not in t)\n"
   ]
  },
  {
   "cell_type": "code",
   "execution_count": null,
   "metadata": {},
   "outputs": [],
   "source": []
  },
  {
   "cell_type": "code",
   "execution_count": null,
   "metadata": {},
   "outputs": [],
   "source": []
  },
  {
   "cell_type": "code",
   "execution_count": null,
   "metadata": {},
   "outputs": [],
   "source": []
  },
  {
   "cell_type": "code",
   "execution_count": null,
   "metadata": {},
   "outputs": [],
   "source": []
  },
  {
   "cell_type": "code",
   "execution_count": null,
   "metadata": {},
   "outputs": [],
   "source": []
  },
  {
   "cell_type": "code",
   "execution_count": null,
   "metadata": {},
   "outputs": [],
   "source": []
  },
  {
   "cell_type": "code",
   "execution_count": null,
   "metadata": {},
   "outputs": [],
   "source": []
  },
  {
   "cell_type": "code",
   "execution_count": null,
   "metadata": {},
   "outputs": [],
   "source": []
  },
  {
   "cell_type": "code",
   "execution_count": null,
   "metadata": {},
   "outputs": [],
   "source": []
  },
  {
   "cell_type": "code",
   "execution_count": null,
   "metadata": {},
   "outputs": [],
   "source": []
  }
 ],
 "metadata": {
  "kernelspec": {
   "display_name": "Python 3",
   "language": "python",
   "name": "python3"
  },
  "language_info": {
   "codemirror_mode": {
    "name": "ipython",
    "version": 3
   },
   "file_extension": ".py",
   "mimetype": "text/x-python",
   "name": "python",
   "nbconvert_exporter": "python",
   "pygments_lexer": "ipython3",
   "version": "3.6.4"
  }
 },
 "nbformat": 4,
 "nbformat_minor": 2
}
