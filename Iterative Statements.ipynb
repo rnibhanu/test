{
 "cells": [
  {
   "cell_type": "code",
   "execution_count": null,
   "metadata": {},
   "outputs": [],
   "source": [
    "# 2 Types of iterative statements in python\n",
    "#1.While loop\n",
    "#2.For loop\n",
    "\n",
    "#Transfer control statments\n",
    "\n",
    "#Break\n",
    "#Continue\n",
    "#pass\n"
   ]
  },
  {
   "cell_type": "code",
   "execution_count": 2,
   "metadata": {},
   "outputs": [
    {
     "name": "stdout",
     "output_type": "stream",
     "text": [
      "1\n",
      "2\n",
      "3\n",
      "4\n",
      "5\n",
      "6\n",
      "7\n",
      "8\n",
      "9\n"
     ]
    }
   ],
   "source": [
    "#Print numbers from 1 to 10\n",
    "x=1\n",
    "while(x<10):\n",
    "    print(x)\n",
    "    x=x+1"
   ]
  },
  {
   "cell_type": "code",
   "execution_count": 3,
   "metadata": {},
   "outputs": [
    {
     "name": "stdout",
     "output_type": "stream",
     "text": [
      "Enter the number5\n",
      "1\n",
      "2\n",
      "3\n",
      "4\n"
     ]
    }
   ],
   "source": [
    "#Print numbers from 1 to n\n",
    "n=int(input(\"Enter the number\"))\n",
    "x=1\n",
    "while(x<=n):\n",
    "    print(x)\n",
    "    x=x+1"
   ]
  },
  {
   "cell_type": "code",
   "execution_count": 4,
   "metadata": {},
   "outputs": [
    {
     "name": "stdout",
     "output_type": "stream",
     "text": [
      "Enter the number5\n",
      "1\n",
      "2\n",
      "3\n",
      "4\n",
      "5\n",
      "15\n"
     ]
    }
   ],
   "source": [
    "#Print sum of n numbers\n",
    "n=int(input(\"Enter the number..\"))\n",
    "sum=0\n",
    "x=1\n",
    "while(x<=n):\n",
    "    sum = sum + x\n",
    "    print(x)\n",
    "    x=x+1\n",
    "print(sum)"
   ]
  },
  {
   "cell_type": "code",
   "execution_count": 6,
   "metadata": {},
   "outputs": [
    {
     "name": "stdout",
     "output_type": "stream",
     "text": [
      "Enter the number10\n",
      "1\n",
      "2\n",
      "3\n",
      "4\n",
      "5\n",
      "6\n",
      "7\n",
      "8\n",
      "9\n",
      "10\n",
      "Out of while loop\n"
     ]
    }
   ],
   "source": [
    "#Print numbers from 1 to 10 with else statement\n",
    "n=int(input(\"Enter the number\"))\n",
    "x=1\n",
    "while(x<=n):\n",
    "    print(x)\n",
    "    x=x+1\n",
    "else:\n",
    "    print(\"Out of while loop\")"
   ]
  },
  {
   "cell_type": "code",
   "execution_count": 8,
   "metadata": {},
   "outputs": [],
   "source": [
    "#for loop\n",
    "\n",
    "#syntax:\n",
    "# for val in sequence:\n",
    "#                    body of the loop\n",
    "#\n",
    "#\n",
    "#\n",
    "\n"
   ]
  },
  {
   "cell_type": "code",
   "execution_count": 15,
   "metadata": {},
   "outputs": [
    {
     "name": "stdout",
     "output_type": "stream",
     "text": [
      "Start\n",
      "0\n",
      "1\n",
      "2\n",
      "3\n",
      "4\n",
      "5\n",
      "6\n",
      "7\n",
      "8\n",
      "9\n",
      "10\n",
      "in Else\n",
      "End\n"
     ]
    }
   ],
   "source": [
    "#print hello 010 times\n",
    "print(\"Start\")\n",
    "for x in range(11):\n",
    "    print(x)\n",
    "else:\n",
    "    print(\"in Else\")\n",
    "print(\"End\")"
   ]
  },
  {
   "cell_type": "code",
   "execution_count": 17,
   "metadata": {},
   "outputs": [
    {
     "name": "stdout",
     "output_type": "stream",
     "text": [
      "1  is an Odd numbers \n",
      "3  is an Odd numbers \n",
      "5  is an Odd numbers \n",
      "7  is an Odd numbers \n",
      "9  is an Odd numbers \n"
     ]
    }
   ],
   "source": [
    "# Program for printing odd number\n",
    "\n",
    "for x in range(10):\n",
    "    if(x%2!=0):\n",
    "        print(x,\" is an Odd number \")\n",
    "        "
   ]
  },
  {
   "cell_type": "code",
   "execution_count": 18,
   "metadata": {},
   "outputs": [
    {
     "name": "stdout",
     "output_type": "stream",
     "text": [
      "0  is an Even number \n",
      "2  is an Even number \n",
      "4  is an Even number \n",
      "6  is an Even number \n",
      "8  is an Even number \n"
     ]
    }
   ],
   "source": [
    "# Program for printing odd number\n",
    "\n",
    "for x in range(10):\n",
    "    if(x%2==0):\n",
    "        print(x,\" is an Even number \")"
   ]
  },
  {
   "cell_type": "code",
   "execution_count": 19,
   "metadata": {},
   "outputs": [
    {
     "name": "stdout",
     "output_type": "stream",
     "text": [
      "0\n",
      "2\n",
      "4\n",
      "6\n",
      "8\n",
      "10\n",
      "12\n",
      "14\n",
      "16\n",
      "18\n"
     ]
    }
   ],
   "source": [
    "#print range of numbers from 1 to 20 with step size of 2 for even numbers\n",
    "for i in range(0, 20, 2):\n",
    "    print(i)"
   ]
  },
  {
   "cell_type": "code",
   "execution_count": 23,
   "metadata": {},
   "outputs": [
    {
     "name": "stdout",
     "output_type": "stream",
     "text": [
      "-10\n",
      "-5\n",
      "0\n",
      "5\n",
      "10\n",
      "15\n"
     ]
    }
   ],
   "source": [
    "for i in range(-10, 20, 5):\n",
    "    print(i)"
   ]
  },
  {
   "cell_type": "code",
   "execution_count": 39,
   "metadata": {},
   "outputs": [
    {
     "name": "stdout",
     "output_type": "stream",
     "text": [
      "10\n",
      "12\n",
      "14\n",
      "16\n",
      "18\n"
     ]
    }
   ],
   "source": [
    "for i in range(0, 20, 2):\n",
    "    if (i >= 10):\n",
    "        print(i)\n",
    "        pass\n",
    "    #print(i)\n",
    "   # break\n",
    "#print(i)"
   ]
  },
  {
   "cell_type": "code",
   "execution_count": null,
   "metadata": {},
   "outputs": [],
   "source": []
  },
  {
   "cell_type": "code",
   "execution_count": null,
   "metadata": {},
   "outputs": [],
   "source": []
  },
  {
   "cell_type": "code",
   "execution_count": null,
   "metadata": {},
   "outputs": [],
   "source": []
  }
 ],
 "metadata": {
  "kernelspec": {
   "display_name": "Python 3",
   "language": "python",
   "name": "python3"
  },
  "language_info": {
   "codemirror_mode": {
    "name": "ipython",
    "version": 3
   },
   "file_extension": ".py",
   "mimetype": "text/x-python",
   "name": "python",
   "nbconvert_exporter": "python",
   "pygments_lexer": "ipython3",
   "version": "3.6.4"
  }
 },
 "nbformat": 4,
 "nbformat_minor": 2
}
