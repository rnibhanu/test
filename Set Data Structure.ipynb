{
 "cells": [
  {
   "cell_type": "markdown",
   "metadata": {},
   "source": [
    "# SET\n",
    "   \n",
    "        1. A collection of values, each value separated by commas and enclosed by curly braces. It is called a set.\n",
    "        2. sets are created by using the set()\n",
    "        3. insertions order is not preserved. i.e set is a unordered list.\n",
    "        4. insertions are allowed.\n",
    "        5. deletions are allowed.\n",
    "        6. set supports heterogeneous elements.  i.e. to store different data type elements.\n",
    "        7. duplicate elements are not allowed.\n",
    "        8. set is mutable.\n",
    "        9. sets does not support indexing and slicing.\n",
    "        10. set operations set union, set intersection,set difference, set symmetric difference,....etc.\n",
    "        11. The declaration syntax of creating a set:\n",
    "            setname={value-1,value-2,value-3.....value-n}\n"
   ]
  },
  {
   "cell_type": "code",
   "execution_count": 10,
   "metadata": {},
   "outputs": [
    {
     "name": "stdout",
     "output_type": "stream",
     "text": [
      "{}\n",
      "<class 'dict'>\n"
     ]
    }
   ],
   "source": [
    "#eg-1: to create a empty set: {1,2,3}\n",
    "s={ }\n",
    "print(s)\n",
    "print(type(s))"
   ]
  },
  {
   "cell_type": "code",
   "execution_count": 11,
   "metadata": {},
   "outputs": [
    {
     "name": "stdout",
     "output_type": "stream",
     "text": [
      "{}\n",
      "<class 'dict'>\n"
     ]
    }
   ],
   "source": [
    "#eg-2: to create a empty set:\n",
    "s={ }\n",
    "print(s)\n",
    "print(type(s))"
   ]
  },
  {
   "cell_type": "code",
   "execution_count": 12,
   "metadata": {},
   "outputs": [
    {
     "name": "stdout",
     "output_type": "stream",
     "text": [
      "set()\n",
      "<class 'set'>\n"
     ]
    }
   ],
   "source": [
    "#eg-3: to create a empty set using set().\n",
    "s=set()\n",
    "print(s)\n",
    "print(type(s))"
   ]
  },
  {
   "cell_type": "code",
   "execution_count": 13,
   "metadata": {
    "scrolled": true
   },
   "outputs": [
    {
     "name": "stdout",
     "output_type": "stream",
     "text": [
      "{33, 11, 44, 22}\n",
      "<class 'set'>\n"
     ]
    }
   ],
   "source": [
    "#eg-4:to create a set with elements:\n",
    "s={11,22,33,44}\n",
    "print(s)\n",
    "print(type(s))"
   ]
  },
  {
   "cell_type": "code",
   "execution_count": 15,
   "metadata": {},
   "outputs": [
    {
     "name": "stdout",
     "output_type": "stream",
     "text": [
      "{1, 2, 3, 4, 5, 6, 7, 8, 9, 10}\n",
      "<class 'set'>\n"
     ]
    }
   ],
   "source": [
    "#eg-5:to create a set with elements using set()\n",
    "s=set(range(1,11,1))\n",
    "print(s)\n",
    "print(type(s))"
   ]
  },
  {
   "cell_type": "code",
   "execution_count": 17,
   "metadata": {},
   "outputs": [
    {
     "name": "stdout",
     "output_type": "stream",
     "text": [
      "{'ram', 23900.6, 1901}\n"
     ]
    },
    {
     "data": {
      "text/plain": [
       "set"
      ]
     },
     "execution_count": 17,
     "metadata": {},
     "output_type": "execute_result"
    }
   ],
   "source": [
    "#eg-6: to create a set with heterogeneous elements:\n",
    "s={1901,'ram',23900.60}\n",
    "print(s)\n",
    "type(s)"
   ]
  },
  {
   "cell_type": "code",
   "execution_count": 18,
   "metadata": {},
   "outputs": [
    {
     "name": "stdout",
     "output_type": "stream",
     "text": [
      "{33, 66, 11, 22, 55}\n"
     ]
    }
   ],
   "source": [
    "#eg-7: to create a set with duplicate elements:\n",
    "s={11,22,11,33,22,55,66}\n",
    "print(s)"
   ]
  },
  {
   "cell_type": "code",
   "execution_count": 19,
   "metadata": {},
   "outputs": [
    {
     "name": "stdout",
     "output_type": "stream",
     "text": [
      "enter set elements:{111,'hai',333,3}\n",
      "{3, 'hai', 333, 111}\n",
      "<class 'set'>\n"
     ]
    }
   ],
   "source": [
    "#eg-8: to create a set at runtime using eval()\n",
    "s=eval(input('enter set elements:'))\n",
    "print(s)\n",
    "print(type(s))"
   ]
  },
  {
   "cell_type": "markdown",
   "metadata": {},
   "source": [
    "# set Methods:\n",
    "        1. len()\n",
    "        2. max()\n",
    "        3. min()\n",
    "        4. sum()\n",
    "        5. add()\n",
    "        6. update()\n",
    "        7. pop()\n",
    "        8. remove()\n",
    "        9. discard()\n",
    "        10. clear()\n",
    "        11. copy()\n",
    "        12. union()\n",
    "        13. intersection()\n",
    "        14. difference()\n",
    "        15. symmetric_difference()\n"
   ]
  },
  {
   "cell_type": "code",
   "execution_count": 20,
   "metadata": {},
   "outputs": [
    {
     "name": "stdout",
     "output_type": "stream",
     "text": [
      "4\n",
      "33\n",
      "2\n",
      "50\n"
     ]
    }
   ],
   "source": [
    "# ex-1:\n",
    "s={11,22,33,44} \n",
    "print(len(s))    # len(): this function is used to find the number of elements present in a set.\n",
    "s={11,2,33,4}\n",
    "print(max(s))    # max(): This function returns highest value in a given set.\n",
    "s={11,2,33,4}\n",
    "print(min(s))    # min(): This function returns lowest value in a given set.\n",
    "s={11,2,33,4}\n",
    "print(sum(s))    # sum(): This function returns sum of all elements in a given set."
   ]
  },
  {
   "cell_type": "code",
   "execution_count": 23,
   "metadata": {},
   "outputs": [
    {
     "name": "stdout",
     "output_type": "stream",
     "text": [
      "{33, 2, 11, 4}\n",
      "{33, 2, 99, 4, 100, 200, 11, 300}\n"
     ]
    }
   ],
   "source": [
    "s={11,2,33,4} # add(): This function is used to add only one element.\n",
    "print(s)\n",
    "s.add(99)\n",
    "s.add(100)\n",
    "s.add(200)\n",
    "s.add(300)\n",
    "print(s)"
   ]
  },
  {
   "cell_type": "code",
   "execution_count": 24,
   "metadata": {},
   "outputs": [
    {
     "name": "stdout",
     "output_type": "stream",
     "text": [
      "{33, 2, 11, 4}\n",
      "{33, 2, 99, 4, 100, 200, 11, 300}\n"
     ]
    }
   ],
   "source": [
    "#ex1\n",
    "s={11,2,33,4} # update() This function is used to add multiple elements.\n",
    "print(s)\n",
    "s.update({99,100,200,300})\n",
    "print(s)"
   ]
  },
  {
   "cell_type": "code",
   "execution_count": 25,
   "metadata": {},
   "outputs": [
    {
     "name": "stdout",
     "output_type": "stream",
     "text": [
      "{200, 100, 400, 300}\n",
      "{1, 2, 3, 100, 4, 5, 6, 200, 7, 8, 9, 300, 10, 400}\n"
     ]
    }
   ],
   "source": [
    "#ex-2:\n",
    "s1={100,200,300,400}\n",
    "print(s1)\n",
    "s1.update(range(1,11,1))\n",
    "print(s1)"
   ]
  },
  {
   "cell_type": "code",
   "execution_count": 35,
   "metadata": {},
   "outputs": [
    {
     "name": "stdout",
     "output_type": "stream",
     "text": [
      "{200, 300, 400, 110}\n",
      "{40, 10, 20, 30}\n",
      "None\n"
     ]
    }
   ],
   "source": [
    "#ex-3: Check ERROR\n",
    "s1={110,200,300,400}\n",
    "s2={10,20,30,40}\n",
    "print(s1)\n",
    "print(s2)\n",
    "print(s1.update(s2))"
   ]
  },
  {
   "cell_type": "code",
   "execution_count": 43,
   "metadata": {},
   "outputs": [
    {
     "name": "stdout",
     "output_type": "stream",
     "text": [
      "{33, 2, 11, 44}\n",
      "33\n",
      "{2, 11, 44}\n",
      "2\n",
      "{11, 44}\n"
     ]
    }
   ],
   "source": [
    "s={11,2,33,44} # pop():    This function is used to delete random element from a set.\n",
    "print(s)\n",
    "print(s.pop())\n",
    "print(s)\n",
    "print(s.pop())\n",
    "print(s)"
   ]
  },
  {
   "cell_type": "code",
   "execution_count": 46,
   "metadata": {},
   "outputs": [
    {
     "name": "stdout",
     "output_type": "stream",
     "text": [
      "{33, 2, 4, 5, 7, 9, 11}\n",
      "{2, 5, 7, 9, 11}\n"
     ]
    }
   ],
   "source": [
    "# remove(): This funciton is used to delete the specified element from a set.\n",
    "#           if the given element not present in a set,it returns KetError.\n",
    "s={11,2,33,4,5,7,9}\n",
    "print(s)\n",
    "s.remove(33)\n",
    "s.remove(4)\n",
    "print(s)"
   ]
  },
  {
   "cell_type": "code",
   "execution_count": 51,
   "metadata": {},
   "outputs": [
    {
     "name": "stdout",
     "output_type": "stream",
     "text": [
      "{33, 2, 11, 4}\n",
      "{2, 11, 4}\n",
      "{2, 11, 4}\n"
     ]
    }
   ],
   "source": [
    "#discard():   This funciton is used to delete the specified element from a set.\n",
    "#            if the given element not present in a set, it returns None\n",
    "s={11,2,33,4}\n",
    "print(s)\n",
    "s.discard(33)\n",
    "print(s)\n",
    "s.discard(43)\n",
    "print(s)       "
   ]
  },
  {
   "cell_type": "code",
   "execution_count": 53,
   "metadata": {},
   "outputs": [
    {
     "name": "stdout",
     "output_type": "stream",
     "text": [
      "{33, 2, 11, 44}\n",
      "set()\n"
     ]
    }
   ],
   "source": [
    "# clear(): This function is used to delete all elements from a set.\n",
    "s={11,2,33,44}\n",
    "print(s)\n",
    "s.clear()\n",
    "print(s)"
   ]
  },
  {
   "cell_type": "code",
   "execution_count": 54,
   "metadata": {},
   "outputs": [
    {
     "name": "stdout",
     "output_type": "stream",
     "text": [
      "{33, 2, 11, 4}\n",
      "{33, 2, 11, 4}\n"
     ]
    }
   ],
   "source": [
    "# copy(): This function is used to copy the elements from one set to another set. i.e. cloned copy.\n",
    "# ex-1:\n",
    "s1={11,2,33,4}\n",
    "s2=s1.copy()\n",
    "print(s1)\n",
    "print(s2)\n"
   ]
  },
  {
   "cell_type": "markdown",
   "metadata": {},
   "source": [
    "# mathematical operations in sets:\n",
    "===============================\n",
    "12. union() or  | :\n",
    "13. intersection() or &:\n",
    "14. difference() or -:\n",
    "15. symmetric_difference() or ^:\n"
   ]
  },
  {
   "cell_type": "code",
   "execution_count": 57,
   "metadata": {},
   "outputs": [
    {
     "name": "stdout",
     "output_type": "stream",
     "text": [
      "{33, 66, 11, 44, 22, 55}\n"
     ]
    }
   ],
   "source": [
    "# union() or |: It returns all the elements present in both the sets.\n",
    "s1={11,22,33,44}\n",
    "s2={33,44,55,66}\n",
    "#s3=s1|s2   #   or    \n",
    "s3=s1.union(s2)\n",
    "print(s3)"
   ]
  },
  {
   "cell_type": "code",
   "execution_count": 58,
   "metadata": {},
   "outputs": [
    {
     "name": "stdout",
     "output_type": "stream",
     "text": [
      "{33, 44}\n"
     ]
    }
   ],
   "source": [
    "#intersection() or &:  It returns common elements in both the sets.\n",
    "s1={11,22,33,44}\n",
    "s2={33,44,55,66}\n",
    "s3=s1&s2    # or   s3=s1.intersection(s2)\n",
    "print(s3)"
   ]
  },
  {
   "cell_type": "code",
   "execution_count": 62,
   "metadata": {},
   "outputs": [
    {
     "name": "stdout",
     "output_type": "stream",
     "text": [
      "{66, 55}\n"
     ]
    }
   ],
   "source": [
    "#difference()   or  -:   It returns , the elements are present in first set, but not in second set.\n",
    "s1={11,22,33,44,5,6}\n",
    "s2={33,44,55,66}\n",
    "s3=s2-s1    # or   s3=s1.differnece(s2)\n",
    "print(s3)\n"
   ]
  },
  {
   "cell_type": "code",
   "execution_count": 64,
   "metadata": {},
   "outputs": [
    {
     "name": "stdout",
     "output_type": "stream",
     "text": [
      "{66, 7, 22, 55, 9, 11}\n"
     ]
    }
   ],
   "source": [
    "#15. symmetric_difference() or  ^: It returns the elements present in first set and second set, except common elements.\n",
    "s1={11,22,33,44,7}\n",
    "s2={33,44,55,66,9}\n",
    "s3=s1^s2    # or   s3=s1.symmetric_difference(s2)\n",
    "print(s3)"
   ]
  },
  {
   "cell_type": "code",
   "execution_count": null,
   "metadata": {},
   "outputs": [],
   "source": []
  },
  {
   "cell_type": "code",
   "execution_count": null,
   "metadata": {},
   "outputs": [],
   "source": []
  },
  {
   "cell_type": "code",
   "execution_count": null,
   "metadata": {},
   "outputs": [],
   "source": []
  },
  {
   "cell_type": "code",
   "execution_count": null,
   "metadata": {},
   "outputs": [],
   "source": []
  },
  {
   "cell_type": "code",
   "execution_count": null,
   "metadata": {},
   "outputs": [],
   "source": []
  },
  {
   "cell_type": "code",
   "execution_count": null,
   "metadata": {},
   "outputs": [],
   "source": []
  },
  {
   "cell_type": "code",
   "execution_count": null,
   "metadata": {},
   "outputs": [],
   "source": []
  },
  {
   "cell_type": "code",
   "execution_count": null,
   "metadata": {},
   "outputs": [],
   "source": []
  },
  {
   "cell_type": "code",
   "execution_count": null,
   "metadata": {},
   "outputs": [],
   "source": []
  },
  {
   "cell_type": "code",
   "execution_count": null,
   "metadata": {},
   "outputs": [],
   "source": []
  },
  {
   "cell_type": "code",
   "execution_count": null,
   "metadata": {},
   "outputs": [],
   "source": []
  },
  {
   "cell_type": "code",
   "execution_count": null,
   "metadata": {},
   "outputs": [],
   "source": []
  },
  {
   "cell_type": "code",
   "execution_count": null,
   "metadata": {},
   "outputs": [],
   "source": []
  },
  {
   "cell_type": "code",
   "execution_count": null,
   "metadata": {},
   "outputs": [],
   "source": []
  },
  {
   "cell_type": "code",
   "execution_count": null,
   "metadata": {},
   "outputs": [],
   "source": []
  },
  {
   "cell_type": "code",
   "execution_count": null,
   "metadata": {},
   "outputs": [],
   "source": []
  },
  {
   "cell_type": "code",
   "execution_count": null,
   "metadata": {},
   "outputs": [],
   "source": []
  },
  {
   "cell_type": "code",
   "execution_count": null,
   "metadata": {},
   "outputs": [],
   "source": []
  },
  {
   "cell_type": "code",
   "execution_count": null,
   "metadata": {},
   "outputs": [],
   "source": []
  }
 ],
 "metadata": {
  "kernelspec": {
   "display_name": "Python 3",
   "language": "python",
   "name": "python3"
  },
  "language_info": {
   "codemirror_mode": {
    "name": "ipython",
    "version": 3
   },
   "file_extension": ".py",
   "mimetype": "text/x-python",
   "name": "python",
   "nbconvert_exporter": "python",
   "pygments_lexer": "ipython3",
   "version": "3.6.4"
  }
 },
 "nbformat": 4,
 "nbformat_minor": 2
}
