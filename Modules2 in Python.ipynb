{
 "cells": [
  {
   "cell_type": "markdown",
   "metadata": {},
   "source": [
    "# platform module\n",
    "    This module is used to access  underlaying platform data such as\n",
    "              a). hardware\n",
    "              b). os\n",
    "              c). interpreter version information\n",
    "                  i.e.where  python program is running\n",
    "                  \n",
    "              "
   ]
  },
  {
   "cell_type": "markdown",
   "metadata": {},
   "source": [
    "#  a). Hardware related functions:\n",
    "                1. machine(): this function returns machine type.\n",
    "                2. node(): this function returns network name\n",
    "                3. processor():this function returns processors name.\n",
    "                4. release(): this function returns systems version release.\n",
    "                5. system(): it returns os name\n",
    "                6. version(): it returns systems version release\n",
    "                7. system-alias(system,release,version):  it returns all the three values in order.\n",
    "                8. uname(): it returns sys,node,release,version,machine  and processor details    \n"
   ]
  },
  {
   "cell_type": "code",
   "execution_count": 5,
   "metadata": {},
   "outputs": [
    {
     "name": "stdout",
     "output_type": "stream",
     "text": [
      "system details:\n",
      "machine type =  AMD64\n",
      "network name =  MarvizLab\n",
      "processors name = Intel64 Family 6 Model 60 Stepping 3, GenuineIntel\n",
      "system version release =  10\n",
      "operating system name= Windows\n",
      "system version release =  10.0.18362\n",
      "all details of hardware =  uname_result(system='Windows', node='MarvizLab', release='10', version='10.0.18362', machine='AMD64', processor='Intel64 Family 6 Model 60 Stepping 3, GenuineIntel')\n"
     ]
    }
   ],
   "source": [
    "#ex:\t\n",
    "import platform as p\n",
    "print('system details:')\n",
    "print('machine type = ',p.machine())\n",
    "print('network name = ',p.node())\n",
    "print('processors name =',p.processor())\n",
    "print('system version release = ',p.release())\n",
    "print('operating system name=',p.system())\n",
    "print('system version release = ',p.version())\n",
    "print('all details of hardware = ',p.uname())\n"
   ]
  },
  {
   "cell_type": "markdown",
   "metadata": {},
   "source": [
    "# Copying list elements:  to copy the list elements from one list to another list\n",
    "        in python list copying two ways.\n",
    "        1. list alising\n",
    "        2. using copy() or using slice operator(:)\n",
    "        "
   ]
  },
  {
   "cell_type": "code",
   "execution_count": 6,
   "metadata": {},
   "outputs": [
    {
     "name": "stdout",
     "output_type": "stream",
     "text": [
      "[11, 22, 33, 44]\n",
      "[11, 22, 33, 44]\n",
      "1856272907976\n",
      "1856272907976\n",
      "x values= [11, 99, 33, 44]\n",
      "y values= [11, 99, 33, 44]\n",
      "x values= [11, 99, 33, 100]\n",
      "y values= [11, 99, 33, 100]\n"
     ]
    }
   ],
   "source": [
    "#1. list aliasing using = operator it is done by using the assignment operator(=)\n",
    "x=[11,22,33,44]\n",
    "y=x\n",
    "print(x)\n",
    "print(y)\n",
    "print(id(x))\n",
    "print(id(y))\n",
    "x[1]=99\n",
    "print('x values=',x)\n",
    "print('y values=',y)\n",
    "y[3]=100\n",
    "print('x values=',x)\n",
    "print('y values=',y)\n",
    "\n",
    "#note:     In list aliasing, both the obejects are pointing to the same location. If any changes in one object, \n",
    "#          will automatically effect in another object.\n",
    "\n"
   ]
  },
  {
   "cell_type": "code",
   "execution_count": 7,
   "metadata": {},
   "outputs": [
    {
     "name": "stdout",
     "output_type": "stream",
     "text": [
      "[11, 22, 33, 44]\n",
      "[11, 22, 33, 44]\n",
      "1856291162504\n",
      "1856291281928\n"
     ]
    }
   ],
   "source": [
    "# 2. using copy() or using slice operator(:) In this method, to copy the values from one list to another list.\n",
    "#                                           but both the objects are pointing different locations.\n",
    "#                                          so if any changes in one object it doesnot effect in another object\n",
    "# ex:\n",
    "x=[11,22,33,44]\n",
    "#y=x.copy()    #   or   y=x[:]\n",
    "y=x[:]\n",
    "print(x)\n",
    "print(y)\n",
    "print(id(x))\n",
    "print(id(y))"
   ]
  },
  {
   "cell_type": "code",
   "execution_count": 8,
   "metadata": {},
   "outputs": [
    {
     "name": "stdout",
     "output_type": "stream",
     "text": [
      "x values= [11, 99, 33, 44]\n",
      "y values= [11, 22, 33, 44]\n",
      "x values= [11, 99, 33, 44]\n",
      "y values= [11, 22, 33, 100]\n"
     ]
    }
   ],
   "source": [
    "x[1]=99\n",
    "print('x values=',x)\n",
    "print('y values=',y)\n",
    "y[3]=100\n",
    "print('x values=',x)\n",
    "print('y values=',y) "
   ]
  },
  {
   "cell_type": "markdown",
   "metadata": {},
   "source": [
    "# copy module:\n",
    "        This module is used to copy the values from one object to another object. \n",
    "        Three ways\n",
    "              1. using assignment operator\n",
    "              2. copy module\n",
    "                   a. copy()\n",
    "                   b. deepcopy()\n",
    "              3. using slice operator\n"
   ]
  },
  {
   "cell_type": "code",
   "execution_count": null,
   "metadata": {},
   "outputs": [],
   "source": [
    "#1. assignment operator:\n",
    "#  To copy the values from one object to another object.\n",
    "# if any changes in one object it will automatically effect another object.\n",
    "#ex: \n",
    "list1=[1,2,3,4]\n",
    "list2=list1\n",
    "list1.append(10)\n",
    "print(list1)\n",
    "print(list2)\n",
    "list1.remove(3)\n",
    "print(list1)\n",
    "print(list2)  \n"
   ]
  },
  {
   "cell_type": "code",
   "execution_count": null,
   "metadata": {},
   "outputs": [],
   "source": [
    "# using copy module copy() in lists: In case of ordinary lists if any changes in one object\n",
    "#                                    it will not effect in another object.\n"
   ]
  },
  {
   "cell_type": "code",
   "execution_count": 11,
   "metadata": {},
   "outputs": [
    {
     "name": "stdout",
     "output_type": "stream",
     "text": [
      "['aa', 2, 3, 4]\n",
      "[1, 2, 3, 4]\n"
     ]
    }
   ],
   "source": [
    "# ex:\n",
    "import copy\n",
    "list1=[1,2,3,4]\n",
    "list2=copy.copy(list1)\n",
    "list1[0]='aa'\n",
    "print(list1)\n",
    "print(list2)      "
   ]
  },
  {
   "cell_type": "code",
   "execution_count": 15,
   "metadata": {},
   "outputs": [
    {
     "name": "stdout",
     "output_type": "stream",
     "text": [
      "[[1, 'd', 3], [3, 4, 6]]\n",
      "[[1, 'd', 3], [3, 4, 6]]\n"
     ]
    }
   ],
   "source": [
    "# using copy module copy( ) in nested list: in case of nested list if any changes in one object it will\n",
    "#                                           automatically effect in another object\n",
    "#ex:\n",
    "import copy\n",
    "list1=[[1,2,3],[3,4,6]]\n",
    "list2=copy.copy(list1)\n",
    "list1[0][1]='d'\n",
    "print(list1)\n",
    "print(list2)      "
   ]
  },
  {
   "cell_type": "code",
   "execution_count": null,
   "metadata": {},
   "outputs": [],
   "source": [
    "# deepcopy(): It is used in nested lists.\n",
    "#               If any changes in one object it will not effect in another object.\n"
   ]
  },
  {
   "cell_type": "code",
   "execution_count": 19,
   "metadata": {},
   "outputs": [
    {
     "name": "stdout",
     "output_type": "stream",
     "text": [
      "[[1, 2], [3, 'aa']]\n",
      "[[1, 2], [3, 4]]\n"
     ]
    }
   ],
   "source": [
    "#ex:\n",
    "import copy\n",
    "list1=[[1,2],[3,4]]\n",
    "list2=copy.deepcopy(list1)\n",
    "list1[1][1]='aa'\n",
    "print(list1)\n",
    "print(list2) \n"
   ]
  },
  {
   "cell_type": "code",
   "execution_count": 21,
   "metadata": {},
   "outputs": [
    {
     "name": "stdout",
     "output_type": "stream",
     "text": [
      "[1, 2, 3, 4]\n",
      "[1, 2, 3, 4]\n",
      "[1, 2, 3, 4]\n",
      "[99, 2, 3, 4]\n"
     ]
    }
   ],
   "source": [
    "#using slicing operator: using slicing operator , to copy the elements from one object  to another object.\n",
    "      #                if any changes in one object it will not effect in  another object.\n",
    "#ex-1: to copy the elements\n",
    "list1=[1,2,3,4]\n",
    "list2=list1[:]\n",
    "print(list1)\n",
    "print(list2)\n",
    "list2[0]=99\n",
    "print(list1)\n",
    "print(list2)   \n"
   ]
  },
  {
   "cell_type": "code",
   "execution_count": 20,
   "metadata": {},
   "outputs": [
    {
     "name": "stdout",
     "output_type": "stream",
     "text": [
      "[1, 2, 3, 4, 5, 6, 7, 8, 9, 10]\n",
      "[3, 6, 9]\n",
      "[1, 2, 3, 4, 5, 6, 7, 8, 9, 10]\n",
      "[99, 6, 9]\n"
     ]
    }
   ],
   "source": [
    "#ex-2:  to copy the elements in a given range\n",
    "list1=[1,2,3,4,5,6,7,8,9,10]\n",
    "list2=list1[2:10:3]\n",
    "print(list1)\n",
    "print(list2)\n",
    "list2[0]=99\n",
    "print(list1)\n",
    "print(list2)     \n"
   ]
  },
  {
   "cell_type": "code",
   "execution_count": null,
   "metadata": {},
   "outputs": [],
   "source": []
  },
  {
   "cell_type": "code",
   "execution_count": null,
   "metadata": {},
   "outputs": [],
   "source": []
  },
  {
   "cell_type": "code",
   "execution_count": null,
   "metadata": {},
   "outputs": [],
   "source": []
  },
  {
   "cell_type": "code",
   "execution_count": null,
   "metadata": {},
   "outputs": [],
   "source": []
  },
  {
   "cell_type": "code",
   "execution_count": null,
   "metadata": {},
   "outputs": [],
   "source": []
  },
  {
   "cell_type": "code",
   "execution_count": null,
   "metadata": {},
   "outputs": [],
   "source": []
  }
 ],
 "metadata": {
  "kernelspec": {
   "display_name": "Python 3",
   "language": "python",
   "name": "python3"
  },
  "language_info": {
   "codemirror_mode": {
    "name": "ipython",
    "version": 3
   },
   "file_extension": ".py",
   "mimetype": "text/x-python",
   "name": "python",
   "nbconvert_exporter": "python",
   "pygments_lexer": "ipython3",
   "version": "3.6.4"
  }
 },
 "nbformat": 4,
 "nbformat_minor": 2
}
