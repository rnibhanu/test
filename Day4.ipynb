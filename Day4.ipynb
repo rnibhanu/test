{
 "cells": [
  {
   "cell_type": "markdown",
   "metadata": {},
   "source": [
    "# Recap:\n",
    "\n",
    "Operators\n",
    "\n",
    "a. Arithmetic operators\n",
    "\n",
    "b. Comparison (Relational) operators \n",
    "\n",
    "c. Logical (Boolean) operators \n",
    "\n",
    "d. Assignment operators\n",
    "\n"
   ]
  },
  {
   "cell_type": "code",
   "execution_count": null,
   "metadata": {},
   "outputs": [],
   "source": [
    "Today\n",
    "\n",
    "e. Bitwise operators\n",
    "\n",
    "f. Special operators\n",
    "\n"
   ]
  },
  {
   "cell_type": "code",
   "execution_count": 12,
   "metadata": {},
   "outputs": [],
   "source": [
    "#Bitwise Operators\n",
    "#Bitwise operators act on operands as if they were string of binary digits. It operates bit by bit\n",
    "\n",
    "# &,  |,  ~,  ^,  >>,  << are Bitwise operators\n",
    "#Python bitwise operators work only on integers.\n",
    "\n",
    "#Bitwise AND\n",
    "#Bitwise AND operator: Returns 1 if both the bits are 1 else 0.\n",
    "\n",
    "\n",
    "\n",
    "#Bitwise OR\n",
    "#Bitwise or operator: Returns 1 if either of the bit is 1 else 0.\n",
    "\n",
    "#Bitwise NOT\n",
    "#Bitwise not operator: Returns one’s compliement of the number.\n",
    "\n",
    "#Bitwise XOR\n",
    "#Bitwise xor operator: Returns 1 if one of the bit is 1 and other is 0 else returns false.\n",
    "\n",
    "#Bitwise rightshift\n",
    "#Bitwise right shift: Shifts the bits of the number to the right and fills 0 on voids left as a result. Similar effect as of dividing the number with some power of two.\n",
    "#Example 1:\n",
    "#a = 10\n",
    "#a >> 1 = 5 \n",
    "\n",
    "#Example 2:\n",
    "#a = -10 \n",
    "#a >> 1 = -5\n",
    "#Bitwise Leftshift\n",
    "#Bitwise left shift: Shifts the bits of the number to the left and fills 0 on voids left as a result. Similar effect as of multiplying the number with some power of two.\n",
    "\n",
    "\n"
   ]
  },
  {
   "cell_type": "code",
   "execution_count": null,
   "metadata": {},
   "outputs": [],
   "source": []
  },
  {
   "cell_type": "code",
   "execution_count": null,
   "metadata": {},
   "outputs": [],
   "source": []
  }
 ],
 "metadata": {
  "kernelspec": {
   "display_name": "Python 3",
   "language": "python",
   "name": "python3"
  },
  "language_info": {
   "codemirror_mode": {
    "name": "ipython",
    "version": 3
   },
   "file_extension": ".py",
   "mimetype": "text/x-python",
   "name": "python",
   "nbconvert_exporter": "python",
   "pygments_lexer": "ipython3",
   "version": "3.6.4"
  }
 },
 "nbformat": 4,
 "nbformat_minor": 2
}
