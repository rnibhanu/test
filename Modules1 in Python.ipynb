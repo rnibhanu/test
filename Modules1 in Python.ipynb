{
 "cells": [
  {
   "cell_type": "markdown",
   "metadata": {},
   "source": [
    "# MODULES \n",
    "             \n",
    "    1. In python, Module is nothing but a file.\n",
    "    2. A module contains varaibles, constatns, functions, classes  and objects.\n",
    "    3. python modules are 2 types:\n",
    "          a). Built-in modules\n",
    "          b). User-defined modules"
   ]
  },
  {
   "cell_type": "markdown",
   "metadata": {},
   "source": [
    "#  Built-in modules: \n",
    "        These modules are coming from python software internally.\n",
    "    \n",
    "    ex: math, copy, os, platform, random,\n",
    "        keyword, datetime, date, time, calendar\n",
    "        tkinter, mysql,sqlite3\n",
    "        numpy, scipy, pandas, matplotlib, matrix, pillow\n"
   ]
  },
  {
   "cell_type": "markdown",
   "metadata": {},
   "source": [
    "# Math Module: \n",
    "It is a built-in module. to perform mathematical operations.\n",
    "\n",
    "        math.pi - an approximation of the ratio of the circumference to the diameter of a circle.\n",
    "        math.e - an approximation of the base of the natural logarithm.\n",
    "        math.ceil(x) - Returns the smallest integer greater than or equal to it, as a float.\n",
    "        math.fabs(x) - Returns the absolute value of x.\n",
    "        math.factorial(x) - Returns x factorial, which is 1 * 2 * 3 * ... *x.\n",
    "        math.floor(x) - Returns the greatest integer less than or equal to x as a float.\n",
    "        math.exp(x) - Returns ex.\n",
    "        math.log(x) - Returns ln x.\n",
    "        math.log(x, base) - Returns logbasex.\n",
    "        math.sqrt(x) - Returns the square root of x.\n",
    "        math.cos(x) - Returns the cosine of x radians.\n",
    "        math.sin(x) - Returns the sine of x radians.\n",
    "        math.tan(x) - Returns the tangent of x radians.\n"
   ]
  },
  {
   "cell_type": "code",
   "execution_count": null,
   "metadata": {},
   "outputs": [],
   "source": [
    "import math\n",
    "math.pi"
   ]
  },
  {
   "cell_type": "code",
   "execution_count": null,
   "metadata": {},
   "outputs": [],
   "source": [
    "math.sqrt(25)"
   ]
  },
  {
   "cell_type": "code",
   "execution_count": null,
   "metadata": {},
   "outputs": [],
   "source": [
    "math.sqrt(100)"
   ]
  },
  {
   "cell_type": "code",
   "execution_count": null,
   "metadata": {},
   "outputs": [],
   "source": [
    "math.ceil(5.6)"
   ]
  },
  {
   "cell_type": "code",
   "execution_count": null,
   "metadata": {},
   "outputs": [],
   "source": [
    "math.floor(5.6)"
   ]
  },
  {
   "cell_type": "code",
   "execution_count": null,
   "metadata": {},
   "outputs": [],
   "source": [
    "math.factorial(5)"
   ]
  },
  {
   "cell_type": "code",
   "execution_count": null,
   "metadata": {},
   "outputs": [],
   "source": [
    "math.pow(4,3)"
   ]
  },
  {
   "cell_type": "code",
   "execution_count": null,
   "metadata": {},
   "outputs": [],
   "source": [
    "math."
   ]
  },
  {
   "cell_type": "markdown",
   "metadata": {},
   "source": [
    "# keyword module: \n",
    "    It is a built-in module. It contains\n",
    "      kwlist : It displays the list of keywords.\n",
    "      iskeyword(): It is a function. the given argument is a keyword or not.\n",
    "                     It returns either True/False.\n",
    "                     If it is a keyword it returns True otherwise it returns False.                 "
   ]
  },
  {
   "cell_type": "code",
   "execution_count": null,
   "metadata": {},
   "outputs": [],
   "source": [
    "#ex-1:write a program to display all python keywords.  \n",
    "import keyword\n",
    "keyword.kwlist"
   ]
  },
  {
   "cell_type": "code",
   "execution_count": null,
   "metadata": {},
   "outputs": [],
   "source": [
    "#ex-2: write a program to find given word is keyword or not.\n",
    "import keyword\n",
    "w=input('enter any word')\n",
    "if keyword.iskeyword(w):\n",
    "    print('given word is keyword')\n",
    "else:\n",
    "    print('given word is not a keyword')"
   ]
  },
  {
   "cell_type": "code",
   "execution_count": null,
   "metadata": {},
   "outputs": [],
   "source": []
  },
  {
   "cell_type": "markdown",
   "metadata": {},
   "source": [
    "# Calendar module:\n",
    "    This module displays a calendar information.\n"
   ]
  },
  {
   "cell_type": "code",
   "execution_count": null,
   "metadata": {},
   "outputs": [],
   "source": [
    "#ex-1:write  a program to display a calendar of a given month.\n",
    "import calendar\n",
    "m=int(input('enter month number'))\n",
    "y=int(input('enter year:'))\n",
    "print(calendar.month(y,m))          \n"
   ]
  },
  {
   "cell_type": "code",
   "execution_count": null,
   "metadata": {},
   "outputs": [],
   "source": [
    "#ex-2:write  a program to display a year  calendar.\n",
    "import calendar\n",
    "y=int(input('enter year:'))\n",
    "print(calendar.calendar(y)) "
   ]
  },
  {
   "cell_type": "code",
   "execution_count": null,
   "metadata": {},
   "outputs": [],
   "source": [
    "import calendar as c\n",
    "print(c.month(2013,2))"
   ]
  },
  {
   "cell_type": "markdown",
   "metadata": {},
   "source": [
    "# B. user-defined modules:\n",
    "  These modules developed by progmmer as per the requirements.\n"
   ]
  },
  {
   "cell_type": "code",
   "execution_count": null,
   "metadata": {},
   "outputs": [],
   "source": [
    "#ex:to create user defined module with variables and functions.. In Visual Code Studio\n",
    "a=88\n",
    "b=99\n",
    "def f1():\n",
    "    print('i am f1 of first module')\n",
    "\n",
    "def f2():\n",
    "    print('i am f2 of first module')\n",
    "    \n",
    "def f3():\n",
    "    print('i am f3 of first module')"
   ]
  },
  {
   "cell_type": "code",
   "execution_count": null,
   "metadata": {},
   "outputs": [],
   "source": [
    "import first \n",
    "first.a\n",
    "first.b\n",
    "first.f1()\n",
    "first.f2()\n",
    "first.f3()"
   ]
  },
  {
   "cell_type": "markdown",
   "metadata": {},
   "source": [
    "# Various import statement syntaxes:\n",
    "        1. import modulename\n",
    "        2. import modulename as aliasname \n",
    "        3. import modulename-1, modulename-2,.....modulename-n\n",
    "        4. import modulename-1 as alias-1, modulename-2 as alias-2, modulenam-3 as alias-3....modulename-n as alias-n\n",
    "        5. from modulename import all\n",
    "        6. from modulename import specified items\n",
    "\n",
    "    eg: \n",
    "        1. import math\n",
    "        2. import math as m\n",
    "        3. import math, keyword,random,calendar\n",
    "        4. import math as m, keyword as k,random as r,calendar as c\n",
    "        5. from math import *\n",
    "        6. from math import pi,e,sqrt \n"
   ]
  },
  {
   "cell_type": "code",
   "execution_count": null,
   "metadata": {},
   "outputs": [],
   "source": [
    "from math import pi,e,sqrt \n",
    "sqrt(25)"
   ]
  },
  {
   "cell_type": "code",
   "execution_count": null,
   "metadata": {},
   "outputs": [],
   "source": []
  },
  {
   "cell_type": "code",
   "execution_count": null,
   "metadata": {},
   "outputs": [],
   "source": []
  },
  {
   "cell_type": "code",
   "execution_count": null,
   "metadata": {},
   "outputs": [],
   "source": []
  },
  {
   "cell_type": "markdown",
   "metadata": {},
   "source": [
    "# Datetime module:\n",
    " \n",
    "    this module is used to perform the operations on date and time. \n"
   ]
  },
  {
   "cell_type": "code",
   "execution_count": 28,
   "metadata": {},
   "outputs": [
    {
     "name": "stdout",
     "output_type": "stream",
     "text": [
      "2020-05-16 11:06:39.556170\n"
     ]
    }
   ],
   "source": [
    "#ex-1: to display present date and time\n",
    "import datetime\n",
    "dt=datetime.datetime.now()\n",
    "print(dt)   \n"
   ]
  },
  {
   "cell_type": "code",
   "execution_count": 29,
   "metadata": {},
   "outputs": [
    {
     "name": "stdout",
     "output_type": "stream",
     "text": [
      "2020-05-16 11:06:48.314847\n"
     ]
    }
   ],
   "source": [
    "#ex-2: to display present date and time\n",
    "import datetime\n",
    "dt=datetime.datetime.today()\n",
    "print(dt)   \n"
   ]
  },
  {
   "cell_type": "code",
   "execution_count": 30,
   "metadata": {},
   "outputs": [
    {
     "name": "stdout",
     "output_type": "stream",
     "text": [
      "16\n",
      "5\n",
      "6\n"
     ]
    }
   ],
   "source": [
    "#ex-3:to display day,weekday.\n",
    "\n",
    "import datetime\n",
    "dt=datetime.datetime.today()\n",
    "print(dt.day)\n",
    "print(dt.weekday())\n",
    "print(dt.isoweekday()) \n"
   ]
  },
  {
   "cell_type": "code",
   "execution_count": 32,
   "metadata": {},
   "outputs": [],
   "source": [
    "dt?"
   ]
  },
  {
   "cell_type": "code",
   "execution_count": 33,
   "metadata": {},
   "outputs": [
    {
     "name": "stdout",
     "output_type": "stream",
     "text": [
      "16\n",
      "5\n",
      "2020\n"
     ]
    }
   ],
   "source": [
    "#ex-4:to display day,month and year\n",
    "\n",
    "import datetime\n",
    "dt=datetime.datetime.today()\n",
    "print(dt.day)\n",
    "print(dt.month)\n",
    "print(dt.year)\n"
   ]
  },
  {
   "cell_type": "markdown",
   "metadata": {},
   "source": [
    "# strftime():\n",
    "\n",
    "        We used the \"strftime function\" for formatting.\n",
    "        This function uses different control code to give an output.\n",
    "        Each control code resembles different parameters\n",
    "        like year,month, weekday and date [(%y/%Y – Year), (%a/%A- weekday),(%b/%B- month), (%d - day of month)] .\n",
    "        In our case, it is (\"%Y\") which resembles year, it prints out the full year with the century (e.g., 2018)\n"
   ]
  },
  {
   "cell_type": "code",
   "execution_count": 34,
   "metadata": {},
   "outputs": [
    {
     "name": "stdout",
     "output_type": "stream",
     "text": [
      "2020-05-16 11:10:41.454899\n",
      "11\n",
      "Sat\n",
      "Saturday\n",
      "6\n",
      "16\n",
      "May\n",
      "May\n",
      "05\n",
      "20\n",
      "2020\n",
      "11\n",
      "AM\n",
      "10\n",
      "41\n",
      "454899\n",
      "137\n",
      "19\n",
      "05/16/20\n",
      "11:10:41\n"
     ]
    }
   ],
   "source": [
    "#ex-5: to display date and time different formats:\n",
    "import datetime\n",
    "x=datetime.datetime.now()    #........16/05/2020\n",
    "print(x)\n",
    "print(x.strftime(\"%H\"))   #24 hours format\n",
    "print(x.strftime(\"%a\"))   #week day short version   sat\n",
    "print(x.strftime(\"%A\"))   #week day long version    Saturday\n",
    "print(x.strftime(\"%w\"))   #week day as a number     06\n",
    "print(x.strftime(\"%d\"))   #day of month            16\n",
    "print(x.strftime(\"%b\"))   #month name short version    may\n",
    "print(x.strftime(\"%B\"))   #month name long version   may\n",
    "print(x.strftime(\"%m\"))   #month has number          05\n",
    "print(x.strftime(\"%y\"))   #year short version           20\n",
    "print(x.strftime(\"%Y\"))   #year long version       2020\n",
    "print(x.strftime(\"%I\"))   #12 hours format            6:47\n",
    "print(x.strftime(\"%p\"))   #am/pm                      pm\n",
    "print(x.strftime(\"%M\"))   #to display minutes.          47\n",
    "print(x.strftime(\"%S\"))   #to display seconds            34\n",
    "print(x.strftime(\"%f\"))   #micro seconds \n",
    "print(x.strftime(\"%j\"))   #number of days completed     120\n",
    "print(x.strftime(\"%U\"))   #week number in the year      16\n",
    "print(x.strftime(\"%x\"))   #local version of date        \n",
    "print(x.strftime(\"%X\"))   #local version of time   "
   ]
  },
  {
   "cell_type": "markdown",
   "metadata": {},
   "source": [
    "# random module:\n",
    "    You can generate random numbers in Python by using random module.\n",
    "    1.random( ): This function is used to gerates a random float numbers between 0.0 to 1.0 \n",
    "                 This function does not need any arguments.\n",
    "\n"
   ]
  },
  {
   "cell_type": "code",
   "execution_count": 43,
   "metadata": {},
   "outputs": [
    {
     "name": "stdout",
     "output_type": "stream",
     "text": [
      "0.1545359127956577\n"
     ]
    }
   ],
   "source": [
    "# random.random() : It returns random number\n",
    "import random\n",
    "print(random.random())"
   ]
  },
  {
   "cell_type": "code",
   "execution_count": 47,
   "metadata": {},
   "outputs": [
    {
     "name": "stdout",
     "output_type": "stream",
     "text": [
      "2\n"
     ]
    }
   ],
   "source": [
    "# randint( ):  it returns a random integer between the   specified integers.   \n",
    "import random\n",
    "print(random.randint(1,10))"
   ]
  },
  {
   "cell_type": "code",
   "execution_count": 54,
   "metadata": {},
   "outputs": [
    {
     "name": "stdout",
     "output_type": "stream",
     "text": [
      "7\n"
     ]
    }
   ],
   "source": [
    "# randrange( ): This function returns a radomly selected element from the range\n",
    "   #     created by the start,stop,step arguments.\n",
    "  #      start...>starting number. by default  '0'.\n",
    "   #     stop....>ending number.\n",
    "  #      step....>step value. by default increased by '1'.   \n",
    "\n",
    "import random\n",
    "print(random.randrange(1,10,1))   \n"
   ]
  },
  {
   "cell_type": "code",
   "execution_count": 62,
   "metadata": {},
   "outputs": [
    {
     "name": "stdout",
     "output_type": "stream",
     "text": [
      "40\n"
     ]
    }
   ],
   "source": [
    "#eg: 1\n",
    "import random\n",
    "print(random.randrange(10,101,10))   \n"
   ]
  },
  {
   "cell_type": "code",
   "execution_count": 63,
   "metadata": {},
   "outputs": [
    {
     "name": "stdout",
     "output_type": "stream",
     "text": [
      "80\n"
     ]
    }
   ],
   "source": [
    "#ex-3\n",
    "import random\n",
    "print(random.randrange(0,100,20))\n"
   ]
  },
  {
   "cell_type": "code",
   "execution_count": 69,
   "metadata": {},
   "outputs": [
    {
     "name": "stdout",
     "output_type": "stream",
     "text": [
      "[1, 3, 2, 5, 4]\n"
     ]
    }
   ],
   "source": [
    "# shuffle( ):   This functions randomly reoders the elements in a list.                 \n",
    "# ex-1: \n",
    "import random\n",
    "x=[1,2,3,4,5]\n",
    "random.shuffle(x) \n",
    "print(x)     \n"
   ]
  },
  {
   "cell_type": "code",
   "execution_count": 76,
   "metadata": {},
   "outputs": [
    {
     "name": "stdout",
     "output_type": "stream",
     "text": [
      "['is', 'language', 'python', 'dynamic']\n"
     ]
    }
   ],
   "source": [
    "#ex-2:\n",
    "import random\n",
    "b=['python', 'is', 'dynamic', 'language']\n",
    "random.shuffle(b) \n",
    "print(b)\n"
   ]
  },
  {
   "cell_type": "code",
   "execution_count": 93,
   "metadata": {},
   "outputs": [
    {
     "name": "stdout",
     "output_type": "stream",
     "text": [
      "A\n"
     ]
    }
   ],
   "source": [
    "# choice( ): This function returns a randomly selected element from a non-empty sequence .\n",
    "#            An empty sequence is an argument then it returns IndexError   \n",
    "#ex-1:\n",
    "import random\n",
    "print(random.choice('sAI'))    \n"
   ]
  },
  {
   "cell_type": "code",
   "execution_count": 94,
   "metadata": {},
   "outputs": [
    {
     "name": "stdout",
     "output_type": "stream",
     "text": [
      "22\n"
     ]
    }
   ],
   "source": [
    "#ex-2:\n",
    "import random\n",
    "print(random.choice([11,22,33,44]))   \n"
   ]
  },
  {
   "cell_type": "code",
   "execution_count": 121,
   "metadata": {},
   "outputs": [
    {
     "name": "stdout",
     "output_type": "stream",
     "text": [
      "1 8 0 4\n"
     ]
    }
   ],
   "source": [
    "# write a program to generate 4 digit OTP.\n",
    "import random\n",
    "print(random.randint(0,9),random.randint(0,9), random.randint(0,9),random.randint(0,9))\n"
   ]
  },
  {
   "cell_type": "code",
   "execution_count": 134,
   "metadata": {},
   "outputs": [
    {
     "name": "stdout",
     "output_type": "stream",
     "text": [
      "0 3 2 4 1 9\n"
     ]
    }
   ],
   "source": [
    "# write a program to generate 6 digit OTP.\n",
    "import random\n",
    "print(random.randint(0,9),random.randint(0,9),\n",
    "      random.randint(0,9),random.randint(0,9),\n",
    "      random.randint(0,9),random.randint(0,9))  \n"
   ]
  },
  {
   "cell_type": "code",
   "execution_count": 156,
   "metadata": {},
   "outputs": [
    {
     "name": "stdout",
     "output_type": "stream",
     "text": [
      "3  1  3  9  6  1  "
     ]
    }
   ],
   "source": [
    "# write a program to generate 6 digit OTP.\n",
    "import random\n",
    "for i in range(1,7):\n",
    "    print(random.randint(0,9),end='  ')\n"
   ]
  },
  {
   "cell_type": "code",
   "execution_count": null,
   "metadata": {},
   "outputs": [],
   "source": [
    "import random\n",
    "random? # for help : press tab after the function"
   ]
  },
  {
   "cell_type": "code",
   "execution_count": 159,
   "metadata": {},
   "outputs": [],
   "source": [
    "random?"
   ]
  },
  {
   "cell_type": "markdown",
   "metadata": {},
   "source": [
    "# OS  MODULE  or    operating system module\n",
    "        1. If there is a large number of file handles to handle in your python program , we can arrange our code within \n",
    "           different directories to make things more manageble and reachable.\n",
    "        2. A directory or folder is a collection of or set of files  and subdirectories.\n",
    "        3. python has os module which provides us with the many useful functions\n",
    "           to work with directories directory management \n",
    "           Creating a directory, renaming it, listing all directories and working with them functions.    \n"
   ]
  },
  {
   "cell_type": "code",
   "execution_count": 160,
   "metadata": {},
   "outputs": [
    {
     "name": "stdout",
     "output_type": "stream",
     "text": [
      "C:\\Users\\SivaRamaPrasad\\git\\SaiKrishna\n"
     ]
    }
   ],
   "source": [
    "#1.getcwd(): This function returns the current working directory.\n",
    "#ex: \t\n",
    "import os\n",
    "x=os.getcwd()\n",
    "print(x)     \n"
   ]
  },
  {
   "cell_type": "code",
   "execution_count": 162,
   "metadata": {},
   "outputs": [
    {
     "name": "stdout",
     "output_type": "stream",
     "text": [
      "new sub directory is created in present directory\n"
     ]
    }
   ],
   "source": [
    "#2. mkdir( ): This function is used to create a new sub directory.\n",
    "# ex-1:\timport os\n",
    "os.mkdir('Sai1')\n",
    "print('new sub directory is created in present directory')"
   ]
  },
  {
   "cell_type": "code",
   "execution_count": 164,
   "metadata": {},
   "outputs": [
    {
     "name": "stdout",
     "output_type": "stream",
     "text": [
      "new sub directory is created \n"
     ]
    }
   ],
   "source": [
    "#ex-2: note: if we create the same name of the directory when the directory already exist we get 'FileExistsError'\n",
    "import os\n",
    "os.mkdir('C:/Users/SivaRamaPrasad/git/SaiKrishna/Sai')\n",
    "print('new sub directory is created ')"
   ]
  },
  {
   "cell_type": "code",
   "execution_count": 165,
   "metadata": {},
   "outputs": [
    {
     "name": "stdout",
     "output_type": "stream",
     "text": [
      "main and sub directories are created\n"
     ]
    }
   ],
   "source": [
    "#3.makedirs( ):   This funciton is used to create a directory and multiple subdirectories at the same time cwd.\n",
    "#Ex:\n",
    "import os\n",
    "os.makedirs('C:/Users/SivaRamaPrasad/git/SaiKrishna/Sai12/python')\n",
    "print('main and sub directories are created')   \n"
   ]
  },
  {
   "cell_type": "code",
   "execution_count": 168,
   "metadata": {
    "scrolled": true
   },
   "outputs": [
    {
     "name": "stdout",
     "output_type": "stream",
     "text": [
      "main and sub directories are deleted\n"
     ]
    }
   ],
   "source": [
    "# 4.removedirs( ): This function is used remove the main directory  and its sub directories\n",
    "#ex: \t\n",
    "import os\n",
    "os.removedirs('C:/Users/SivaRamaPrasad/git/SaiKrishna/Sai12')\n",
    "print('main and sub directories are deleted')   \n"
   ]
  },
  {
   "cell_type": "code",
   "execution_count": 169,
   "metadata": {},
   "outputs": [
    {
     "name": "stdout",
     "output_type": "stream",
     "text": [
      "within current directory kusu sub directory deleted\n"
     ]
    }
   ],
   "source": [
    "# 5. rmdir( ): This function is used remove the subdirectory.\n",
    "import os\n",
    "os.rmdir('Sai')\n",
    "print('within current directory kusu sub directory deleted') \n"
   ]
  },
  {
   "cell_type": "code",
   "execution_count": 170,
   "metadata": {},
   "outputs": [
    {
     "name": "stdout",
     "output_type": "stream",
     "text": [
      "old name is changed\n"
     ]
    }
   ],
   "source": [
    "#6. rename( ):  This function is used to rename a existing file\n",
    "# syntax:  rename('oldfilename','newfilename')\n",
    "import os\n",
    "os.rename('hello.txt','sai.txt')\n",
    "print('old name is changed')       \n"
   ]
  },
  {
   "cell_type": "code",
   "execution_count": null,
   "metadata": {},
   "outputs": [],
   "source": [
    "'''7. system( ):  This method execute the command (a string) in a subshell.\n",
    "This method is implemented by calling the Standard C function system(),\n",
    "and has the same limitations. If command generates any output,\n",
    "it is sent to the interpreter standard output stream\n",
    "'''"
   ]
  },
  {
   "cell_type": "code",
   "execution_count": null,
   "metadata": {},
   "outputs": [],
   "source": [
    "#ex-1:\tto run python file\n",
    "import os\n",
    "print('hai')\n",
    "x='py second.py'\n",
    "os.system(x)\n",
    "print('finish')"
   ]
  },
  {
   "cell_type": "code",
   "execution_count": 172,
   "metadata": {},
   "outputs": [
    {
     "data": {
      "text/plain": [
       "0"
      ]
     },
     "execution_count": 172,
     "metadata": {},
     "output_type": "execute_result"
    }
   ],
   "source": [
    "#ex-2: to open a notepad\n",
    "import os  \n",
    "cmd = 'notepad'\n",
    "os.system(cmd)       "
   ]
  },
  {
   "cell_type": "code",
   "execution_count": 176,
   "metadata": {},
   "outputs": [
    {
     "data": {
      "text/plain": [
       "0"
      ]
     },
     "execution_count": 176,
     "metadata": {},
     "output_type": "execute_result"
    }
   ],
   "source": [
    "#ex-3:write a program to change present system date    \n",
    "import os    \n",
    "cmd = 'ipconfig'\n",
    "os.system(cmd)"
   ]
  },
  {
   "cell_type": "code",
   "execution_count": null,
   "metadata": {},
   "outputs": [],
   "source": []
  },
  {
   "cell_type": "code",
   "execution_count": null,
   "metadata": {},
   "outputs": [],
   "source": []
  },
  {
   "cell_type": "code",
   "execution_count": null,
   "metadata": {},
   "outputs": [],
   "source": []
  },
  {
   "cell_type": "code",
   "execution_count": null,
   "metadata": {},
   "outputs": [],
   "source": []
  },
  {
   "cell_type": "code",
   "execution_count": null,
   "metadata": {},
   "outputs": [],
   "source": []
  },
  {
   "cell_type": "code",
   "execution_count": null,
   "metadata": {},
   "outputs": [],
   "source": []
  }
 ],
 "metadata": {
  "kernelspec": {
   "display_name": "Python 3",
   "language": "python",
   "name": "python3"
  },
  "language_info": {
   "codemirror_mode": {
    "name": "ipython",
    "version": 3
   },
   "file_extension": ".py",
   "mimetype": "text/x-python",
   "name": "python",
   "nbconvert_exporter": "python",
   "pygments_lexer": "ipython3",
   "version": "3.6.4"
  }
 },
 "nbformat": 4,
 "nbformat_minor": 2
}
