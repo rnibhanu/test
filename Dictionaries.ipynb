{
 "cells": [
  {
   "cell_type": "markdown",
   "metadata": {},
   "source": [
    "# Dictionary Data Structure:\n",
    " \n",
    "1.  A collection of key-value pairs, each pair is separated by commas and enclosed by curly braces. It is called a dictionary,\n",
    "2.  Dictionaries are created by using the dict()\n",
    "3.  Insertion is preserved.\n",
    "4.  Insertions are allowed.\n",
    "5.  Deletions are allowed.\n",
    "6.  Heterogeneious elements are allowed.\n",
    "7.  Duplicate keys are not allowed. but duplicae values are allowed.\n",
    "8.  Dictionaries are mutable.\n",
    "9.  Dictionary is a dynamic.i.e. the based the requirement the dictionary size can be increased or decreased.It does not support     indexing and slicing. it supports keys.\n",
    "10. The dictionary declaration  syntax is:\n",
    "\n",
    "              dictname={key-1:value-1,key-2:value-2,key-3:value-3,...key-n:value-n}\n",
    "\n",
    "              keys must be unique. Any data type values are either unique or duplicate\n"
   ]
  },
  {
   "cell_type": "code",
   "execution_count": 5,
   "metadata": {},
   "outputs": [
    {
     "data": {
      "text/plain": [
       "dict"
      ]
     },
     "execution_count": 5,
     "metadata": {},
     "output_type": "execute_result"
    }
   ],
   "source": [
    "# eg-1: to create a dictionary with elements:\n",
    "d={101:'python',102:'c',103:'cpp',104:'java'}    \n",
    "d\n",
    "type(d)"
   ]
  },
  {
   "cell_type": "code",
   "execution_count": 8,
   "metadata": {},
   "outputs": [
    {
     "name": "stdout",
     "output_type": "stream",
     "text": [
      "{}\n",
      "<class 'dict'>\n"
     ]
    },
    {
     "data": {
      "text/plain": [
       "dict"
      ]
     },
     "execution_count": 8,
     "metadata": {},
     "output_type": "execute_result"
    }
   ],
   "source": [
    "#ex-2: to create a empty dictionary:\n",
    "d={  }\n",
    "print(d)\n",
    "print(type(d))\n",
    "f=dict()\n",
    "f\n",
    "type(f)"
   ]
  },
  {
   "cell_type": "code",
   "execution_count": 11,
   "metadata": {},
   "outputs": [
    {
     "name": "stdout",
     "output_type": "stream",
     "text": [
      "{101: 'python', 102: 'c', 103: 'cpp', 104: 'cccc'}\n"
     ]
    }
   ],
   "source": [
    "#ex-3: to create a dictionary with duplicate values:\n",
    "d={101:'python',102:'c',103:'cpp',104:'cccc'}\n",
    "print(d)    \n"
   ]
  },
  {
   "cell_type": "code",
   "execution_count": 12,
   "metadata": {},
   "outputs": [
    {
     "name": "stdout",
     "output_type": "stream",
     "text": [
      "{101: 'python', 102: 'java', 103: 'cpp'}\n"
     ]
    }
   ],
   "source": [
    "#ex-4: to create a dictionary with duplicate keys:  duplicate keys are not allowed to override the old data and store new data\n",
    "d={101:'python',102:'c',103:'cpp',102:'java'}\n",
    "print(d)\n"
   ]
  },
  {
   "cell_type": "code",
   "execution_count": 14,
   "metadata": {},
   "outputs": [
    {
     "name": "stdout",
     "output_type": "stream",
     "text": [
      "enter key:33\n",
      "enter value of the key:avads\n",
      "{33: 'avads'}\n"
     ]
    },
    {
     "data": {
      "text/plain": [
       "dict"
      ]
     },
     "execution_count": 14,
     "metadata": {},
     "output_type": "execute_result"
    }
   ],
   "source": [
    "# ex-5: to enter dictionary elemments at run time\n",
    "d={  }\n",
    "k=int(input('enter key:'))\n",
    "v=input('enter value of the key:')\n",
    "d[k]=v\n",
    "print(d)\n",
    "type(d)"
   ]
  },
  {
   "cell_type": "code",
   "execution_count": null,
   "metadata": {},
   "outputs": [],
   "source": [
    "# ex-6: to create a dictionary at runtime with 5 elements using while loop :\n",
    "d={  }\n",
    "i=1\n",
    "while i<=5:\n",
    "    k=int(input('enter key:'))\n",
    "    v=input('enter value of the key:')\n",
    "    d[k]=v\n",
    "    i=i+1\n",
    "print(d) "
   ]
  },
  {
   "cell_type": "code",
   "execution_count": null,
   "metadata": {},
   "outputs": [],
   "source": [
    "# ex-7: to create a dictionary at runtime with 5 elements using for  loop :\n",
    "d={  }\n",
    "for i in range(1,6,1):\n",
    "    k=int(input('enter key:'))\n",
    "    v=input('enter value of the key:')\n",
    "    d[k]=v \n",
    "print(d)    \n"
   ]
  },
  {
   "cell_type": "code",
   "execution_count": 15,
   "metadata": {},
   "outputs": [
    {
     "name": "stdout",
     "output_type": "stream",
     "text": [
      "how elements are stored into a dictionary2\n",
      "enter key:11\n",
      "enter value of the key:enat\n",
      "enter key:22\n",
      "enter value of the key:hakl\n",
      "{11: 'enat', 22: 'hakl'}\n"
     ]
    }
   ],
   "source": [
    "#ex-8: to create a dictionary at runtime with 'n' elements using for  loop :\n",
    "d={  }\n",
    "n=int(input('how elements are stored into a dictionary'))\n",
    "for i in range(1,n+1,1):\n",
    "    k=int(input('enter key:'))\n",
    "    v=input('enter value of the key:')\n",
    "    d[k]=v \n",
    "    \n",
    "print(d) \n",
    "\n"
   ]
  },
  {
   "cell_type": "markdown",
   "metadata": {},
   "source": [
    "# methods in dictionaries:\n",
    "        1. len()\n",
    "        2. max()\n",
    "        3. min()\n",
    "        4. sum()\n",
    "        5. setdefault()\n",
    "        6. pop()\n",
    "        7. popitem()\n",
    "        8. clear()\n",
    "        9. keys()\n",
    "        10. values()\n",
    "        11. items()\n",
    "        12. get()\n",
    "        13. copy()\n",
    "        14. sorted()\n"
   ]
  },
  {
   "cell_type": "code",
   "execution_count": 16,
   "metadata": {},
   "outputs": [
    {
     "name": "stdout",
     "output_type": "stream",
     "text": [
      "no. of key-value pairs= 4\n",
      "highest key= 104\n",
      "lowest key= 101\n",
      "sum of keys= 410\n"
     ]
    }
   ],
   "source": [
    "# ex-1:\n",
    "d={101: 'python', 102:'c',  103: 'cpp', 104: 'java'}\n",
    "print('no. of key-value pairs=',len(d))\n",
    "print('highest key=',max(d))\n",
    "print('lowest key=',min(d))\n",
    "print('sum of keys=',sum(d))"
   ]
  },
  {
   "cell_type": "code",
   "execution_count": 18,
   "metadata": {},
   "outputs": [
    {
     "name": "stdout",
     "output_type": "stream",
     "text": [
      "no. of key-value pairs= 4\n",
      "highest key= python\n",
      "lowest key= c\n"
     ]
    },
    {
     "ename": "TypeError",
     "evalue": "unsupported operand type(s) for +: 'int' and 'str'",
     "output_type": "error",
     "traceback": [
      "\u001b[1;31m---------------------------------------------------------------------------\u001b[0m",
      "\u001b[1;31mTypeError\u001b[0m                                 Traceback (most recent call last)",
      "\u001b[1;32m<ipython-input-18-a78700bb8ec0>\u001b[0m in \u001b[0;36m<module>\u001b[1;34m()\u001b[0m\n\u001b[0;32m      4\u001b[0m \u001b[0mprint\u001b[0m\u001b[1;33m(\u001b[0m\u001b[1;34m'highest key='\u001b[0m\u001b[1;33m,\u001b[0m\u001b[0mmax\u001b[0m\u001b[1;33m(\u001b[0m\u001b[0md\u001b[0m\u001b[1;33m)\u001b[0m\u001b[1;33m)\u001b[0m\u001b[1;33m\u001b[0m\u001b[0m\n\u001b[0;32m      5\u001b[0m \u001b[0mprint\u001b[0m\u001b[1;33m(\u001b[0m\u001b[1;34m'lowest key='\u001b[0m\u001b[1;33m,\u001b[0m\u001b[0mmin\u001b[0m\u001b[1;33m(\u001b[0m\u001b[0md\u001b[0m\u001b[1;33m)\u001b[0m\u001b[1;33m)\u001b[0m\u001b[1;33m\u001b[0m\u001b[0m\n\u001b[1;32m----> 6\u001b[1;33m \u001b[0mprint\u001b[0m\u001b[1;33m(\u001b[0m\u001b[1;34m'sum of keys='\u001b[0m\u001b[1;33m,\u001b[0m\u001b[0msum\u001b[0m\u001b[1;33m(\u001b[0m\u001b[0md\u001b[0m\u001b[1;33m)\u001b[0m\u001b[1;33m)\u001b[0m \u001b[1;31m# ...>TypeError\u001b[0m\u001b[1;33m\u001b[0m\u001b[0m\n\u001b[0m",
      "\u001b[1;31mTypeError\u001b[0m: unsupported operand type(s) for +: 'int' and 'str'"
     ]
    }
   ],
   "source": [
    "# ex-2:\n",
    "d={'python':'101', 'c':'102',  'cpp':'103', 'java':'104'}\n",
    "print('no. of key-value pairs=',len(d))\n",
    "print('highest key=',max(d))\n",
    "print('lowest key=',min(d))\n",
    "print('sum of keys=',sum(d)) # ...>TypeError"
   ]
  },
  {
   "cell_type": "code",
   "execution_count": 22,
   "metadata": {},
   "outputs": [
    {
     "name": "stdout",
     "output_type": "stream",
     "text": [
      "{101: 'python', 102: 'cddd', 103: 'cpp', 104: 'java'}\n",
      "{101: 'python', 102: 'cddd', 103: 'cpp', 104: 'java', 105: 'cobol', 106: 'pascal'}\n",
      "{101: 'python', 102: 'cddd', 103: 'cpp', 104: 'java', 105: 'cobol', 106: 'pascal'}\n"
     ]
    }
   ],
   "source": [
    "# setdefault():  This function is used to add new element into a dictionary.\n",
    "#                if the key is already present, new elements are not added.\n",
    "#ex-1:\n",
    "d={101:'python',102:'c',103: 'cpp',104:'java'}\n",
    "print(d)\n",
    "d.setdefault(105,'cobol')\n",
    "d.setdefault(106,'pascal')\n",
    "print(d) \n",
    "d.setdefault(102,'data science')\n",
    "print(d)"
   ]
  },
  {
   "cell_type": "code",
   "execution_count": 25,
   "metadata": {},
   "outputs": [
    {
     "name": "stdout",
     "output_type": "stream",
     "text": [
      "{101: 'python', 102: 'c', 103: 'cpp', 104: 'java'}\n",
      "{}\n"
     ]
    }
   ],
   "source": [
    "# pop():  This function is used to remove a specified element from a dict.\n",
    "# ex:1\n",
    "d={101:'python',102:'c',103:'cpp',104:'java'}\n",
    "print(d)\n",
    "d.pop(102)\n",
    "d.pop(103)\n",
    "d.pop(104)\n",
    "d.pop(101)\n",
    "print(d)"
   ]
  },
  {
   "cell_type": "code",
   "execution_count": 27,
   "metadata": {},
   "outputs": [
    {
     "name": "stdout",
     "output_type": "stream",
     "text": [
      "{101: 'python', 102: 'c', 103: 'cpp', 104: 'java', 105: 'hello', 109: 'jjj'}\n",
      "{101: 'python', 102: 'c', 103: 'cpp', 104: 'java', 105: 'hello'}\n"
     ]
    }
   ],
   "source": [
    "# popitem():   This function is used to remvoe the last element from a dict.\n",
    "\n",
    "d={101:'python',102:'c',103:'cpp',104:'java',105:'hello',109:'jjj'}\n",
    "print(d)\n",
    "d.popitem()\n",
    "print(d)    \n"
   ]
  },
  {
   "cell_type": "code",
   "execution_count": 28,
   "metadata": {},
   "outputs": [
    {
     "name": "stdout",
     "output_type": "stream",
     "text": [
      "{101: 'python', 102: 'c', 103: 'cpp', 104: 'java'}\n",
      "{}\n"
     ]
    }
   ],
   "source": [
    "# clear():  This function is used to remove all elements from a dict.\n",
    "d={101:'python',102:'c',103:'cpp',104:'java'}\n",
    "print(d)\n",
    "d.clear()\n",
    "print(d)\n"
   ]
  },
  {
   "cell_type": "code",
   "execution_count": 31,
   "metadata": {},
   "outputs": [
    {
     "name": "stdout",
     "output_type": "stream",
     "text": [
      "{101: 'python', 102: 'c', 103: 'cpp', 104: 'java'}\n",
      "dict_keys([101, 102, 103, 104])\n",
      "101\n",
      "102\n",
      "103\n",
      "104\n"
     ]
    }
   ],
   "source": [
    "#keys():   It returns only keys.\n",
    "d={101:'python',102:'c',103:'cpp',104:'java'}\n",
    "print(d)\n",
    "print(d.keys())\n",
    "for i in d.keys():       \n",
    "    print(i)\n"
   ]
  },
  {
   "cell_type": "code",
   "execution_count": 32,
   "metadata": {},
   "outputs": [
    {
     "name": "stdout",
     "output_type": "stream",
     "text": [
      "{101: 'python', 102: 'c', 103: 'cpp', 104: 'java'}\n",
      "dict_values(['python', 'c', 'cpp', 'java'])\n",
      "python\n",
      "c\n",
      "cpp\n",
      "java\n"
     ]
    }
   ],
   "source": [
    "# values():   It returns only values.\n",
    "d={101:'python',102:'c',103:'cpp',104:'java'}\n",
    "print(d)\n",
    "print(d.values())\n",
    "for i in d.values():       \n",
    "    print(i)      \n"
   ]
  },
  {
   "cell_type": "code",
   "execution_count": 33,
   "metadata": {},
   "outputs": [
    {
     "name": "stdout",
     "output_type": "stream",
     "text": [
      "{101: 'python', 102: 'c', 103: 'cpp', 104: 'java'}\n",
      "dict_items([(101, 'python'), (102, 'c'), (103, 'cpp'), (104, 'java')])\n",
      "(101, 'python')\n",
      "(102, 'c')\n",
      "(103, 'cpp')\n",
      "(104, 'java')\n"
     ]
    }
   ],
   "source": [
    "# items(): it returns both keys and values\n",
    "d={101:'python',102:'c',103:'cpp',104:'java'}\n",
    "print(d) # method1\n",
    "print(d.items())  # method2\n",
    "for i in d.items():       # method3 \n",
    "    print(i)\n"
   ]
  },
  {
   "cell_type": "code",
   "execution_count": 34,
   "metadata": {},
   "outputs": [
    {
     "name": "stdout",
     "output_type": "stream",
     "text": [
      "101 ......> python\n",
      "102 ......> c\n",
      "103 ......> cpp\n",
      "104 ......> java\n"
     ]
    }
   ],
   "source": [
    "d={101:'python',102:'c',103:'cpp',104:'java'}\n",
    "for i,j in d.items():\n",
    "    print(i,'......>',j)\n"
   ]
  },
  {
   "cell_type": "code",
   "execution_count": 36,
   "metadata": {},
   "outputs": [
    {
     "data": {
      "text/plain": [
       "'python'"
      ]
     },
     "execution_count": 36,
     "metadata": {},
     "output_type": "execute_result"
    }
   ],
   "source": [
    "# get(): This function is used to return the value of the given key.\n",
    "d={101:'python',102:'c',103:'cpp',104:'java'}\n",
    "d.get(101)\n",
    "#d.get(104)\n"
   ]
  },
  {
   "cell_type": "code",
   "execution_count": 37,
   "metadata": {},
   "outputs": [
    {
     "data": {
      "text/plain": [
       "'java'"
      ]
     },
     "execution_count": 37,
     "metadata": {},
     "output_type": "execute_result"
    }
   ],
   "source": [
    "d.get(104)"
   ]
  },
  {
   "cell_type": "code",
   "execution_count": 38,
   "metadata": {},
   "outputs": [
    {
     "name": "stdout",
     "output_type": "stream",
     "text": [
      "{101: 'python', 102: 'c', 103: 'cpp', 104: 'java'}\n",
      "{101: 'python', 102: 'c', 103: 'cpp', 104: 'java'}\n"
     ]
    }
   ],
   "source": [
    "# copy():    This function is used to copy the elements from one dictionary to another dictionary.\n",
    "d1={101:'python',102:'c',103:'cpp',104:'java'}\n",
    "d2=d1.copy()\n",
    "print(d1)\n",
    "print(d2)    "
   ]
  },
  {
   "cell_type": "code",
   "execution_count": 39,
   "metadata": {},
   "outputs": [
    {
     "name": "stdout",
     "output_type": "stream",
     "text": [
      "[1, 2, 101, 104]\n"
     ]
    }
   ],
   "source": [
    "#sorted():  This function is used to return the elements based on keys.\n",
    "#ex-1   \n",
    "d1={101:'python',2:'c',1:'cpp',104:'java'}\n",
    "print(sorted(d1))"
   ]
  },
  {
   "cell_type": "code",
   "execution_count": 44,
   "metadata": {},
   "outputs": [
    {
     "data": {
      "text/plain": [
       "[1, 2, 101, 104]"
      ]
     },
     "execution_count": 44,
     "metadata": {},
     "output_type": "execute_result"
    }
   ],
   "source": [
    "#ex-2:\n",
    "d1={101:'python',2:'c',1:'cpp',104:'java'}\n",
    "sorted(d1)"
   ]
  },
  {
   "cell_type": "code",
   "execution_count": 45,
   "metadata": {},
   "outputs": [
    {
     "data": {
      "text/plain": [
       "[104, 101, 2, 1]"
      ]
     },
     "execution_count": 45,
     "metadata": {},
     "output_type": "execute_result"
    }
   ],
   "source": [
    "sorted(d1,reverse=True)"
   ]
  },
  {
   "cell_type": "code",
   "execution_count": null,
   "metadata": {},
   "outputs": [],
   "source": []
  },
  {
   "cell_type": "code",
   "execution_count": null,
   "metadata": {},
   "outputs": [],
   "source": []
  },
  {
   "cell_type": "code",
   "execution_count": null,
   "metadata": {},
   "outputs": [],
   "source": []
  },
  {
   "cell_type": "code",
   "execution_count": null,
   "metadata": {},
   "outputs": [],
   "source": []
  },
  {
   "cell_type": "code",
   "execution_count": null,
   "metadata": {},
   "outputs": [],
   "source": []
  },
  {
   "cell_type": "code",
   "execution_count": null,
   "metadata": {},
   "outputs": [],
   "source": []
  },
  {
   "cell_type": "code",
   "execution_count": null,
   "metadata": {},
   "outputs": [],
   "source": []
  }
 ],
 "metadata": {
  "kernelspec": {
   "display_name": "Python 3",
   "language": "python",
   "name": "python3"
  },
  "language_info": {
   "codemirror_mode": {
    "name": "ipython",
    "version": 3
   },
   "file_extension": ".py",
   "mimetype": "text/x-python",
   "name": "python",
   "nbconvert_exporter": "python",
   "pygments_lexer": "ipython3",
   "version": "3.6.4"
  }
 },
 "nbformat": 4,
 "nbformat_minor": 2
}
